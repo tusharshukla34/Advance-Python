{
 "cells": [
  {
   "cell_type": "code",
   "execution_count": 2,
   "id": "8e2ee14c-66df-445d-b145-81bf82994411",
   "metadata": {},
   "outputs": [],
   "source": [
    "import numpy as np"
   ]
  },
  {
   "cell_type": "code",
   "execution_count": 7,
   "id": "d65d4af9-0ee0-4040-a0a5-1d21eb530ebb",
   "metadata": {},
   "outputs": [
    {
     "name": "stdout",
     "output_type": "stream",
     "text": [
      "[1 3 5 7 9]\n"
     ]
    },
    {
     "data": {
      "text/plain": [
       "dtype('int64')"
      ]
     },
     "execution_count": 7,
     "metadata": {},
     "output_type": "execute_result"
    }
   ],
   "source": [
    "# 1. Create a 1D NumPy array from a Python list and print its data type.\n",
    "\n",
    "lst = [1,3,5,7,9]\n",
    "arr1d = np.array(lst)\n",
    "print(arr1d)\n",
    "arr1d.dtype"
   ]
  },
  {
   "cell_type": "code",
   "execution_count": 27,
   "id": "72cae9a1-dc54-41ed-82af-005d48caaa6a",
   "metadata": {},
   "outputs": [
    {
     "name": "stdout",
     "output_type": "stream",
     "text": [
      "[[7 2 4]\n",
      " [5 2 5]\n",
      " [1 5 1]]\n"
     ]
    }
   ],
   "source": [
    "# 2. Create a 2D NumPy array of shape (3,3) with values from 1 to 9.\n",
    "\n",
    "# arr2d = np.random.randint(1,10,size=(3,3))\n",
    "# print(arr2d)\n",
    "\n",
    "arr2d = np.random.randint(1,10,9).reshape(3,3)\n",
    "print(arr2d)\n",
    "\n",
    "# arr2d = np.arange(1,10).reshape(3,3)\n",
    "# print(arr2d)"
   ]
  },
  {
   "cell_type": "code",
   "execution_count": 35,
   "id": "f21bccc1-6c2b-4272-a364-742eddcf0186",
   "metadata": {},
   "outputs": [
    {
     "name": "stdout",
     "output_type": "stream",
     "text": [
      "[0. 0. 0. 0. 0. 0. 0. 0. 0. 0.]\n",
      "\n",
      "[1. 1. 1. 1. 1. 1. 1. 1. 1. 1.]\n"
     ]
    }
   ],
   "source": [
    "# 3. Create an array of 10 zeros and an array of 10 ones.\n",
    "\n",
    "arr = np.zeros(10)\n",
    "print(arr)\n",
    "\n",
    "print()\n",
    "\n",
    "arr1 = np.ones(10)\n",
    "print(arr1)"
   ]
  },
  {
   "cell_type": "code",
   "execution_count": 36,
   "id": "1fad4751-c117-44ce-b674-93f3c6e79209",
   "metadata": {},
   "outputs": [
    {
     "name": "stdout",
     "output_type": "stream",
     "text": [
      "[32 13 20 87 92 68 33 21 79  4]\n"
     ]
    }
   ],
   "source": [
    "# 4. Create an array of 10 random integers between 1 and 100.\n",
    "\n",
    "arr = np.random.randint(1,101,10)\n",
    "print(arr)"
   ]
  },
  {
   "cell_type": "code",
   "execution_count": 38,
   "id": "ae543501-00c9-4e69-8f7c-a8da6b7e5294",
   "metadata": {},
   "outputs": [
    {
     "name": "stdout",
     "output_type": "stream",
     "text": [
      "[0.         0.11111111 0.22222222 0.33333333 0.44444444 0.55555556\n",
      " 0.66666667 0.77777778 0.88888889 1.        ]\n"
     ]
    }
   ],
   "source": [
    "# 5. Create an array of 10 evenly spaced values between 0 and 1.\n",
    "\n",
    "print(np.linspace(0,1,10))"
   ]
  },
  {
   "cell_type": "code",
   "execution_count": null,
   "id": "be8766ad-c53c-4a9d-adf0-4952ca740bc2",
   "metadata": {},
   "outputs": [],
   "source": []
  },
  {
   "cell_type": "raw",
   "id": "614123de-4ad0-4112-901d-fe8998a93530",
   "metadata": {},
   "source": [
    "6. Find the shape, size, and dimensions (ndim) of a given NumPy array."
   ]
  },
  {
   "cell_type": "code",
   "execution_count": 8,
   "id": "96d3791c-a702-456e-8b49-b7c65485df2e",
   "metadata": {},
   "outputs": [
    {
     "data": {
      "text/plain": [
       "array([[ 1,  2,  3],\n",
       "       [ 4,  5,  6],\n",
       "       [ 7,  8,  9],\n",
       "       [10, 11, 12],\n",
       "       [13, 14, 15],\n",
       "       [16, 17, 18],\n",
       "       [19, 20, 21],\n",
       "       [22, 23, 24],\n",
       "       [25, 26, 27],\n",
       "       [28, 29, 30]])"
      ]
     },
     "execution_count": 8,
     "metadata": {},
     "output_type": "execute_result"
    }
   ],
   "source": [
    "arr = np.arange(1,31).reshape(10,3)\n",
    "arr"
   ]
  },
  {
   "cell_type": "code",
   "execution_count": 17,
   "id": "a31dc709-741b-41d6-a82e-42c9d38efc0b",
   "metadata": {},
   "outputs": [
    {
     "name": "stdout",
     "output_type": "stream",
     "text": [
      "shape of array: (10, 3)\n",
      "size of array: 30\n",
      "dimension of array: 2\n"
     ]
    }
   ],
   "source": [
    "print(\"shape of array:\",arr.shape)\n",
    "print(\"size of array:\",arr.size)\n",
    "print(\"dimension of array:\",arr.ndim)"
   ]
  },
  {
   "cell_type": "raw",
   "id": "b307deb0-fe8b-4989-baca-1f59a293605e",
   "metadata": {},
   "source": []
  },
  {
   "cell_type": "raw",
   "id": "d1f61936-0d93-477f-a587-c85ccd9e2e58",
   "metadata": {},
   "source": [
    "7. Reshape a 1D array of 12 elements into a 3x4 matrix."
   ]
  },
  {
   "cell_type": "code",
   "execution_count": 20,
   "id": "208bf7bb-d465-4e80-9d11-9c53ffa1998d",
   "metadata": {},
   "outputs": [
    {
     "data": {
      "text/plain": [
       "array([[ 0,  1,  2,  3],\n",
       "       [ 4,  5,  6,  7],\n",
       "       [ 8,  9, 10, 11]])"
      ]
     },
     "execution_count": 20,
     "metadata": {},
     "output_type": "execute_result"
    }
   ],
   "source": [
    "arr = np.arange(12).reshape(3,4)\n",
    "arr"
   ]
  },
  {
   "cell_type": "raw",
   "id": "f8cad501-19ed-4836-8f12-1473e2a5c316",
   "metadata": {},
   "source": []
  },
  {
   "cell_type": "raw",
   "id": "d53481d8-2227-4289-b7e2-c00247608fc5",
   "metadata": {},
   "source": [
    "8. Access the element at the 2nd row and 3rd column of a 2D array."
   ]
  },
  {
   "cell_type": "code",
   "execution_count": 21,
   "id": "2c8f7ed2-257c-4386-abb9-5f4aac95e44e",
   "metadata": {},
   "outputs": [
    {
     "data": {
      "text/plain": [
       "array([[ 0,  1,  2,  3],\n",
       "       [ 4,  5,  6,  7],\n",
       "       [ 8,  9, 10, 11]])"
      ]
     },
     "execution_count": 21,
     "metadata": {},
     "output_type": "execute_result"
    }
   ],
   "source": [
    "arr"
   ]
  },
  {
   "cell_type": "code",
   "execution_count": 23,
   "id": "ee8cdd49-fe7a-4e25-8a28-dd37f0cdb3a7",
   "metadata": {},
   "outputs": [
    {
     "data": {
      "text/plain": [
       "np.int64(6)"
      ]
     },
     "execution_count": 23,
     "metadata": {},
     "output_type": "execute_result"
    }
   ],
   "source": [
    "arr[1,2]"
   ]
  },
  {
   "cell_type": "raw",
   "id": "74f360ca-e0eb-48a0-b7b7-25c327cee05e",
   "metadata": {},
   "source": []
  },
  {
   "cell_type": "raw",
   "id": "0003738a-e96e-4561-9208-ee225a5fd095",
   "metadata": {},
   "source": [
    "9. Slice a 1D array to extract every second element."
   ]
  },
  {
   "cell_type": "code",
   "execution_count": 25,
   "id": "5e1d7ae3-f786-4c9f-b142-66711b8fa23e",
   "metadata": {},
   "outputs": [
    {
     "data": {
      "text/plain": [
       "array([0, 1, 2, 3, 4, 5, 6, 7, 8, 9])"
      ]
     },
     "execution_count": 25,
     "metadata": {},
     "output_type": "execute_result"
    }
   ],
   "source": [
    "arr = np.arange(10)\n",
    "arr"
   ]
  },
  {
   "cell_type": "code",
   "execution_count": 27,
   "id": "cbb58a2e-7148-4d14-a2e6-5f08273168ec",
   "metadata": {},
   "outputs": [
    {
     "data": {
      "text/plain": [
       "array([1, 3, 5, 7, 9])"
      ]
     },
     "execution_count": 27,
     "metadata": {},
     "output_type": "execute_result"
    }
   ],
   "source": [
    "arr[1::2]"
   ]
  },
  {
   "cell_type": "raw",
   "id": "3aa8a4c4-8e5c-417f-9664-ff53acd2f54c",
   "metadata": {},
   "source": []
  },
  {
   "cell_type": "raw",
   "id": "f01f5e07-01e8-42d4-9f59-c0fff9a50c09",
   "metadata": {},
   "source": [
    "10. Reverse the elements of a 1D array without using loops"
   ]
  },
  {
   "cell_type": "code",
   "execution_count": 29,
   "id": "aef59e99-c02e-444e-8dcf-a77b8398a2f4",
   "metadata": {},
   "outputs": [
    {
     "data": {
      "text/plain": [
       "array([0, 1, 2, 3, 4, 5, 6, 7, 8, 9])"
      ]
     },
     "execution_count": 29,
     "metadata": {},
     "output_type": "execute_result"
    }
   ],
   "source": [
    "arr"
   ]
  },
  {
   "cell_type": "code",
   "execution_count": 31,
   "id": "34ff1db9-e714-4ee0-baa6-8c0fbb885804",
   "metadata": {},
   "outputs": [
    {
     "data": {
      "text/plain": [
       "array([9, 8, 7, 6, 5, 4, 3, 2, 1, 0])"
      ]
     },
     "execution_count": 31,
     "metadata": {},
     "output_type": "execute_result"
    }
   ],
   "source": [
    "arr[::-1]"
   ]
  },
  {
   "cell_type": "code",
   "execution_count": null,
   "id": "e4542589-1549-408e-9122-b8826137142b",
   "metadata": {},
   "outputs": [],
   "source": []
  },
  {
   "cell_type": "code",
   "execution_count": null,
   "id": "ffc6b44a-4624-40ea-b04e-7b7b06103e99",
   "metadata": {},
   "outputs": [],
   "source": []
  },
  {
   "cell_type": "code",
   "execution_count": null,
   "id": "1994af1c-bd8d-445b-a36d-0906b317c8a1",
   "metadata": {},
   "outputs": [],
   "source": []
  },
  {
   "cell_type": "code",
   "execution_count": null,
   "id": "319a9517-a841-49e6-ae02-882c40643377",
   "metadata": {},
   "outputs": [],
   "source": []
  },
  {
   "cell_type": "code",
   "execution_count": null,
   "id": "31ecbef6-73a0-49c3-ba9b-b36c4ea8b427",
   "metadata": {},
   "outputs": [],
   "source": []
  },
  {
   "cell_type": "code",
   "execution_count": null,
   "id": "108ba268-da47-4b38-8c5e-ee4bb8d4b7a3",
   "metadata": {},
   "outputs": [],
   "source": []
  },
  {
   "cell_type": "code",
   "execution_count": null,
   "id": "8160059d-6ee0-48dd-aa6b-8a7772544efd",
   "metadata": {},
   "outputs": [],
   "source": []
  },
  {
   "cell_type": "code",
   "execution_count": null,
   "id": "61503e3a-db59-41a5-a367-3f3f4fcc022c",
   "metadata": {},
   "outputs": [],
   "source": []
  },
  {
   "cell_type": "code",
   "execution_count": null,
   "id": "c715e7b8-3eb2-4d2b-979b-9aee14ca3087",
   "metadata": {},
   "outputs": [],
   "source": []
  },
  {
   "cell_type": "code",
   "execution_count": null,
   "id": "5945b22e-879f-435e-9820-426b298de4ab",
   "metadata": {},
   "outputs": [],
   "source": []
  },
  {
   "cell_type": "code",
   "execution_count": null,
   "id": "9b70f6ea-6201-4afb-b490-c8048ade2e1c",
   "metadata": {},
   "outputs": [],
   "source": []
  },
  {
   "cell_type": "code",
   "execution_count": null,
   "id": "571d828b-1825-4247-a720-86a522a46d19",
   "metadata": {},
   "outputs": [],
   "source": []
  },
  {
   "cell_type": "code",
   "execution_count": null,
   "id": "eff21587-e9d5-449f-aa0a-b5b1c4391961",
   "metadata": {},
   "outputs": [],
   "source": []
  },
  {
   "cell_type": "code",
   "execution_count": null,
   "id": "0a2f551f-614c-429d-8f03-ef37e5544865",
   "metadata": {},
   "outputs": [],
   "source": []
  },
  {
   "cell_type": "code",
   "execution_count": null,
   "id": "ee357ced-7152-4ce1-8e58-7b4415fe35c8",
   "metadata": {},
   "outputs": [],
   "source": []
  },
  {
   "cell_type": "code",
   "execution_count": null,
   "id": "5ac65c17-2fb0-4dbf-b0d5-ac559350fa86",
   "metadata": {},
   "outputs": [],
   "source": []
  },
  {
   "cell_type": "code",
   "execution_count": null,
   "id": "1bc87e02-7600-4ee2-b2c0-d07182e03959",
   "metadata": {},
   "outputs": [],
   "source": []
  },
  {
   "cell_type": "code",
   "execution_count": null,
   "id": "45a532c9-40ae-4f51-8177-b6ab3c065808",
   "metadata": {},
   "outputs": [],
   "source": []
  },
  {
   "cell_type": "code",
   "execution_count": null,
   "id": "5de6ccd3-15f9-4b32-b193-eb9aceb60151",
   "metadata": {},
   "outputs": [],
   "source": []
  },
  {
   "cell_type": "code",
   "execution_count": null,
   "id": "87d942dc-2bc2-48d2-8c3f-a68b9c70572a",
   "metadata": {},
   "outputs": [],
   "source": []
  },
  {
   "cell_type": "code",
   "execution_count": null,
   "id": "33a2b635-b1a7-4c2a-96e6-8352cad2209b",
   "metadata": {},
   "outputs": [],
   "source": []
  },
  {
   "cell_type": "code",
   "execution_count": null,
   "id": "367000cf-5b01-4aed-b2ff-259793e096c7",
   "metadata": {},
   "outputs": [],
   "source": []
  },
  {
   "cell_type": "code",
   "execution_count": null,
   "id": "372ecf23-3299-46b2-9d6a-36060d692ee6",
   "metadata": {},
   "outputs": [],
   "source": []
  },
  {
   "cell_type": "code",
   "execution_count": null,
   "id": "976b8f43-fc05-45d7-aabc-f2ed891d515c",
   "metadata": {},
   "outputs": [],
   "source": []
  },
  {
   "cell_type": "code",
   "execution_count": null,
   "id": "704a9804-eb94-4acd-a448-cda8753beded",
   "metadata": {},
   "outputs": [],
   "source": []
  },
  {
   "cell_type": "code",
   "execution_count": null,
   "id": "8acecf88-9f4b-40fe-9019-a95dedce05e4",
   "metadata": {},
   "outputs": [],
   "source": []
  },
  {
   "cell_type": "code",
   "execution_count": null,
   "id": "2742c4f2-f326-4ecd-b508-d8fbade999dd",
   "metadata": {},
   "outputs": [],
   "source": []
  },
  {
   "cell_type": "code",
   "execution_count": null,
   "id": "9f51de37-0deb-4cfe-ba8e-6456dcbe0c43",
   "metadata": {},
   "outputs": [],
   "source": []
  },
  {
   "cell_type": "code",
   "execution_count": null,
   "id": "a5a1706d-9f5c-44ad-8ec9-51fab88a538c",
   "metadata": {},
   "outputs": [],
   "source": []
  },
  {
   "cell_type": "code",
   "execution_count": null,
   "id": "b5de67d6-c59e-42ad-8f8b-c1b1dae99155",
   "metadata": {},
   "outputs": [],
   "source": []
  },
  {
   "cell_type": "code",
   "execution_count": null,
   "id": "ed77d325-ac5d-4304-b579-e3ffaeb9c83f",
   "metadata": {},
   "outputs": [],
   "source": []
  },
  {
   "cell_type": "code",
   "execution_count": null,
   "id": "43be676b-1c95-40e9-af34-5a7c7a838162",
   "metadata": {},
   "outputs": [],
   "source": []
  },
  {
   "cell_type": "code",
   "execution_count": null,
   "id": "42ce6fd7-a657-47cc-8ae9-fd50a4e8cbb7",
   "metadata": {},
   "outputs": [],
   "source": []
  }
 ],
 "metadata": {
  "kernelspec": {
   "display_name": "Python 3 (ipykernel)",
   "language": "python",
   "name": "python3"
  },
  "language_info": {
   "codemirror_mode": {
    "name": "ipython",
    "version": 3
   },
   "file_extension": ".py",
   "mimetype": "text/x-python",
   "name": "python",
   "nbconvert_exporter": "python",
   "pygments_lexer": "ipython3",
   "version": "3.12.7"
  }
 },
 "nbformat": 4,
 "nbformat_minor": 5
}
