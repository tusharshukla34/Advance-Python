{
 "cells": [
  {
   "cell_type": "code",
   "execution_count": 1,
   "id": "e4c05411-ebad-4eee-98fd-a94390e225e7",
   "metadata": {},
   "outputs": [],
   "source": [
    "import numpy as np"
   ]
  },
  {
   "cell_type": "raw",
   "id": "98b9774d-e827-4e4e-afda-08cac58ac4e3",
   "metadata": {},
   "source": [
    "Q1. Replace all odd numbers in the given array with -1\n",
    " input = np.array([0, 1, 2, 3, 4, 5, 6, 7, 8, 9])\n",
    " expected Output->[ 0, -1, 2, -1, 4, -1, 6, -1, 8, -1]"
   ]
  },
  {
   "cell_type": "code",
   "execution_count": 4,
   "id": "f1966b70-2e98-45db-b14b-0841c3153c95",
   "metadata": {},
   "outputs": [
    {
     "data": {
      "text/plain": [
       "array([0, 1, 2, 3, 4, 5, 6, 7, 8, 9])"
      ]
     },
     "execution_count": 4,
     "metadata": {},
     "output_type": "execute_result"
    }
   ],
   "source": [
    "arr = np.arange(0,10)\n",
    "arr"
   ]
  },
  {
   "cell_type": "code",
   "execution_count": 9,
   "id": "99614282-67b2-423e-b1c9-350ad150be98",
   "metadata": {},
   "outputs": [
    {
     "data": {
      "text/plain": [
       "array([ 0, -1,  2, -1,  4, -1,  6, -1,  8, -1])"
      ]
     },
     "execution_count": 9,
     "metadata": {},
     "output_type": "execute_result"
    }
   ],
   "source": [
    "arr[arr%2 !=0] = -1\n",
    "arr"
   ]
  },
  {
   "cell_type": "raw",
   "id": "55090f00-2992-4e86-8321-46e5c52a000f",
   "metadata": {},
   "source": []
  },
  {
   "cell_type": "raw",
   "id": "28b317ee-dd9d-4e9a-9104-d1d798e95d22",
   "metadata": {},
   "source": [
    "Q2. Convert a 1-D array into a 2-D array with 3 rows\n",
    "input = np.array([0, 1, 2, 3, 4, 5, 6, 7, 8]) output = [[ 0, 1, 2],[3, 4, 5],[6, 7, 8]]"
   ]
  },
  {
   "cell_type": "code",
   "execution_count": 63,
   "id": "9d7903c3-9237-4592-b15a-09eacb27946f",
   "metadata": {},
   "outputs": [
    {
     "data": {
      "text/plain": [
       "array([[ 0,  1,  2,  3,  4,  5],\n",
       "       [ 6,  7,  8,  9, 10, 11],\n",
       "       [12, 13, 14, 15, 16, 17]])"
      ]
     },
     "execution_count": 63,
     "metadata": {},
     "output_type": "execute_result"
    }
   ],
   "source": [
    "arr = np.arange(0,18).reshape(3,6)\n",
    "arr"
   ]
  },
  {
   "cell_type": "raw",
   "id": "b82996e9-2901-446e-b46a-3b83a5522ec9",
   "metadata": {},
   "source": []
  },
  {
   "cell_type": "raw",
   "id": "a5c225a6-4544-473c-98ef-bcc66301db4a",
   "metadata": {},
   "source": [
    "Q3. Create a 2-D array with 202 to all the values\n",
    "Output = [[202, 202],[202, 202]]"
   ]
  },
  {
   "cell_type": "code",
   "execution_count": 25,
   "id": "c8c33849-34af-4f9c-b0b7-8e3921fb6d88",
   "metadata": {},
   "outputs": [
    {
     "data": {
      "text/plain": [
       "array([[202, 202],\n",
       "       [202, 202]])"
      ]
     },
     "execution_count": 25,
     "metadata": {},
     "output_type": "execute_result"
    }
   ],
   "source": [
    "arr = np.full(4,202).reshape(2,2)\n",
    "arr"
   ]
  },
  {
   "cell_type": "raw",
   "id": "c8141822-cd97-4bd9-b37f-398e453a3041",
   "metadata": {},
   "source": []
  },
  {
   "cell_type": "raw",
   "id": "66544ecf-7b3e-487d-8f8e-689ecb5a7d02",
   "metadata": {},
   "source": [
    "Q4. Generate a 1-D array of 10 random integers. Each integer should be a number between 30 and 40 (inclusive)\n",
    "output = [36, 30, 36, 38, 31, 35, 36, 30, 32, 34]"
   ]
  },
  {
   "cell_type": "code",
   "execution_count": 37,
   "id": "5f6876a1-f922-4e44-a87c-4bf55845de41",
   "metadata": {},
   "outputs": [
    {
     "data": {
      "text/plain": [
       "array([35, 39, 31, 31, 40, 32, 34, 40, 34, 37], dtype=int32)"
      ]
     },
     "execution_count": 37,
     "metadata": {},
     "output_type": "execute_result"
    }
   ],
   "source": [
    "arr = np.random.randint(30,41,10)\n",
    "arr"
   ]
  },
  {
   "cell_type": "raw",
   "id": "7e867336-48ea-4e3c-96a9-b3c5aa82a6c1",
   "metadata": {},
   "source": []
  },
  {
   "cell_type": "raw",
   "id": "f40e1777-9a15-4853-b5a3-dec68b736f46",
   "metadata": {},
   "source": [
    "Q.5 Extract the first four columns of this 2-D array\n",
    "input = np.arange(100).reshape(5,-1) output = [[ 0 1 2 3],[20 21 22 23],[40 41 42 43],[60 61 62 63],[80 81 82 83]]"
   ]
  },
  {
   "cell_type": "code",
   "execution_count": 38,
   "id": "9529538c-40b9-4297-9f86-7f148bf16a2e",
   "metadata": {},
   "outputs": [
    {
     "data": {
      "text/plain": [
       "array([[ 0,  1,  2,  3,  4,  5,  6,  7,  8,  9, 10, 11, 12, 13, 14, 15,\n",
       "        16, 17, 18, 19],\n",
       "       [20, 21, 22, 23, 24, 25, 26, 27, 28, 29, 30, 31, 32, 33, 34, 35,\n",
       "        36, 37, 38, 39],\n",
       "       [40, 41, 42, 43, 44, 45, 46, 47, 48, 49, 50, 51, 52, 53, 54, 55,\n",
       "        56, 57, 58, 59],\n",
       "       [60, 61, 62, 63, 64, 65, 66, 67, 68, 69, 70, 71, 72, 73, 74, 75,\n",
       "        76, 77, 78, 79],\n",
       "       [80, 81, 82, 83, 84, 85, 86, 87, 88, 89, 90, 91, 92, 93, 94, 95,\n",
       "        96, 97, 98, 99]])"
      ]
     },
     "execution_count": 38,
     "metadata": {},
     "output_type": "execute_result"
    }
   ],
   "source": [
    "arr = np.arange(100).reshape(5,-1)\n",
    "arr"
   ]
  },
  {
   "cell_type": "code",
   "execution_count": 39,
   "id": "fc65b980-a44d-4292-a28b-b7ef2d79d895",
   "metadata": {},
   "outputs": [
    {
     "data": {
      "text/plain": [
       "array([[ 0,  1,  2,  3],\n",
       "       [20, 21, 22, 23],\n",
       "       [40, 41, 42, 43],\n",
       "       [60, 61, 62, 63],\n",
       "       [80, 81, 82, 83]])"
      ]
     },
     "execution_count": 39,
     "metadata": {},
     "output_type": "execute_result"
    }
   ],
   "source": [
    "arr[:,0:4]"
   ]
  },
  {
   "cell_type": "raw",
   "id": "db06c20e-b054-46b9-8258-4ca98b1e8c85",
   "metadata": {},
   "source": []
  },
  {
   "cell_type": "raw",
   "id": "c262ebd0-8030-464d-9a45-065818e19be9",
   "metadata": {},
   "source": [
    "Q.6 Create a null vector of size 10\n",
    "output = [0, 0, 0, 0, 0, 0, 0, 0, 0, 0]"
   ]
  },
  {
   "cell_type": "code",
   "execution_count": 43,
   "id": "c36719ea-1849-4c0d-a202-3753fa1da206",
   "metadata": {},
   "outputs": [
    {
     "data": {
      "text/plain": [
       "array([0, 0, 0, 0, 0, 0, 0, 0, 0, 0])"
      ]
     },
     "execution_count": 43,
     "metadata": {},
     "output_type": "execute_result"
    }
   ],
   "source": [
    "arr = np.zeros(10,dtype=int)\n",
    "arr"
   ]
  },
  {
   "cell_type": "code",
   "execution_count": 45,
   "id": "bf8ac1fc-0dba-4cf8-bba0-caaa587a8a77",
   "metadata": {},
   "outputs": [
    {
     "data": {
      "text/plain": [
       "array([0, 0, 0, 0, 0, 0, 0, 0, 0, 0])"
      ]
     },
     "execution_count": 45,
     "metadata": {},
     "output_type": "execute_result"
    }
   ],
   "source": [
    "arr = np.full(10,0)\n",
    "arr"
   ]
  },
  {
   "cell_type": "raw",
   "id": "53364d8a-e71f-457b-932e-d61a2cabbae2",
   "metadata": {},
   "source": []
  },
  {
   "cell_type": "raw",
   "id": "26009fc5-5333-4bd9-a4e1-221582a2c077",
   "metadata": {},
   "source": [
    "Q.7 Create a null vector of size 10 but the fifth value which is 1\n",
    "output = [0, 0, 0, 0, 1, 0, 0, 0, 0, 0]"
   ]
  },
  {
   "cell_type": "code",
   "execution_count": 48,
   "id": "dc9b4641-42b6-4998-af87-423ecda39d0d",
   "metadata": {},
   "outputs": [
    {
     "data": {
      "text/plain": [
       "array([0, 0, 0, 0, 0, 0, 0, 0, 0, 0])"
      ]
     },
     "execution_count": 48,
     "metadata": {},
     "output_type": "execute_result"
    }
   ],
   "source": [
    "arr = np.full(10,0)\n",
    "arr"
   ]
  },
  {
   "cell_type": "code",
   "execution_count": 49,
   "id": "c97c4d32-a31a-4fa6-8907-b6b15cef9e3a",
   "metadata": {},
   "outputs": [
    {
     "data": {
      "text/plain": [
       "array([0, 0, 0, 0, 1, 0, 0, 0, 0, 0])"
      ]
     },
     "execution_count": 49,
     "metadata": {},
     "output_type": "execute_result"
    }
   ],
   "source": [
    "arr[4] = 1\n",
    "arr"
   ]
  },
  {
   "cell_type": "raw",
   "id": "7335b541-f16d-422a-ad6c-484d7ad05ab3",
   "metadata": {},
   "source": []
  },
  {
   "cell_type": "raw",
   "id": "09b3d348-3832-48e8-8605-38c12b00270e",
   "metadata": {},
   "source": [
    "Q.8 Reverse a vector (first element becomes last)"
   ]
  },
  {
   "cell_type": "code",
   "execution_count": 50,
   "id": "73ff1d12-80a2-4762-85fc-41d4e7fe8610",
   "metadata": {},
   "outputs": [
    {
     "data": {
      "text/plain": [
       "array([0, 1, 2, 3, 4, 5, 6, 7, 8, 9])"
      ]
     },
     "execution_count": 50,
     "metadata": {},
     "output_type": "execute_result"
    }
   ],
   "source": [
    "arr = np.arange(10)\n",
    "arr"
   ]
  },
  {
   "cell_type": "code",
   "execution_count": 55,
   "id": "c786eee5-a3bd-4e6a-bef2-7aeba64acac0",
   "metadata": {},
   "outputs": [
    {
     "data": {
      "text/plain": [
       "array([9, 8, 7, 6, 5, 4, 3, 2, 1, 0])"
      ]
     },
     "execution_count": 55,
     "metadata": {},
     "output_type": "execute_result"
    }
   ],
   "source": [
    "arr[::-1]"
   ]
  },
  {
   "cell_type": "raw",
   "id": "5605fcce-72bf-4560-9faa-1b7a87c9abb6",
   "metadata": {},
   "source": []
  },
  {
   "cell_type": "raw",
   "id": "d7c5dae1-1cc2-43ba-8ee1-268bcf3baf2e",
   "metadata": {},
   "source": [
    "Q.9 Create a 3x3 identity matrix"
   ]
  },
  {
   "cell_type": "code",
   "execution_count": 56,
   "id": "6c33f3da-fbb6-4c7e-b0d7-326c490b55c8",
   "metadata": {},
   "outputs": [
    {
     "data": {
      "text/plain": [
       "array([[1., 0., 0.],\n",
       "       [0., 1., 0.],\n",
       "       [0., 0., 1.]])"
      ]
     },
     "execution_count": 56,
     "metadata": {},
     "output_type": "execute_result"
    }
   ],
   "source": [
    "np.eye(3,3)"
   ]
  },
  {
   "cell_type": "raw",
   "id": "b425ab08-df89-4921-94c2-fd0b5546a3a7",
   "metadata": {},
   "source": []
  },
  {
   "cell_type": "raw",
   "id": "cfac6003-3e95-4cf9-a16c-81be5076d023",
   "metadata": {},
   "source": [
    "Q.10 Create a 3x3x3 array with random values"
   ]
  },
  {
   "cell_type": "code",
   "execution_count": 60,
   "id": "005124dd-80b3-4f58-be24-984b0d9f1af8",
   "metadata": {},
   "outputs": [
    {
     "data": {
      "text/plain": [
       "array([[[5, 2, 2],\n",
       "        [4, 7, 4],\n",
       "        [6, 2, 3]],\n",
       "\n",
       "       [[6, 2, 6],\n",
       "        [6, 4, 4],\n",
       "        [7, 4, 2]],\n",
       "\n",
       "       [[6, 5, 4],\n",
       "        [4, 4, 7],\n",
       "        [5, 4, 7]]], dtype=int32)"
      ]
     },
     "execution_count": 60,
     "metadata": {},
     "output_type": "execute_result"
    }
   ],
   "source": [
    "arr = np.random.randint(2,8,size=(3,3,3))\n",
    "arr"
   ]
  },
  {
   "cell_type": "raw",
   "id": "75445692-e6ce-4770-990d-3688c03069f3",
   "metadata": {},
   "source": []
  },
  {
   "cell_type": "raw",
   "id": "adf2abde-7f0c-4731-8262-20a1997e5840",
   "metadata": {},
   "source": [
    "Q.11 Create a 10x10 array with random values and find the minimum and maximum values"
   ]
  },
  {
   "cell_type": "code",
   "execution_count": 68,
   "id": "c0f24540-7866-4d91-9384-00b446fe1d67",
   "metadata": {},
   "outputs": [
    {
     "data": {
      "text/plain": [
       "array([[29,  7, 74, 80, 82, 28, 65, 10, 52, 91],\n",
       "       [13, 56, 18,  6, 21, 77, 42, 22, 89, 58],\n",
       "       [87, 21, 94, 62, 30, 74, 81, 81, 65, 69],\n",
       "       [62, 71, 86, 88, 65, 91, 14, 82, 44, 44],\n",
       "       [67, 52,  2, 14,  3, 56, 93, 48,  7, 97],\n",
       "       [37, 73,  3, 27, 19, 75, 28, 12, 91, 31],\n",
       "       [55, 80, 42, 92, 94, 21, 32, 96, 52, 63],\n",
       "       [12, 23, 76, 97, 73, 67, 96, 84, 24, 23],\n",
       "       [51, 69, 68, 49, 11, 82,  6, 37,  5, 12],\n",
       "       [71, 97,  8, 58, 14, 26, 83,  1, 12, 34]], dtype=int32)"
      ]
     },
     "execution_count": 68,
     "metadata": {},
     "output_type": "execute_result"
    }
   ],
   "source": [
    "arr = np.random.randint(1,100,size=(10,10))\n",
    "arr"
   ]
  },
  {
   "cell_type": "code",
   "execution_count": 74,
   "id": "5e34da2b-c0ab-40ff-9994-b5f1a79c14d5",
   "metadata": {},
   "outputs": [
    {
     "name": "stdout",
     "output_type": "stream",
     "text": [
      "97\n"
     ]
    }
   ],
   "source": [
    "print(arr.max())"
   ]
  },
  {
   "cell_type": "code",
   "execution_count": 73,
   "id": "e1b9ed75-be86-4048-a3a5-a9dd7afb0931",
   "metadata": {},
   "outputs": [
    {
     "name": "stdout",
     "output_type": "stream",
     "text": [
      "1\n"
     ]
    }
   ],
   "source": [
    "print(arr.min())"
   ]
  },
  {
   "cell_type": "raw",
   "id": "89188d2b-f848-45ab-b3d6-5590d2b72fa5",
   "metadata": {},
   "source": []
  },
  {
   "cell_type": "raw",
   "id": "6be9d71b-d99e-4b9b-a4b5-3eacdd1ab099",
   "metadata": {},
   "source": [
    "Q.12 Create a random vector of size 30 and find the mean value"
   ]
  },
  {
   "cell_type": "code",
   "execution_count": 81,
   "id": "a26e5f1b-9d21-49c3-86fe-dac34df91cb7",
   "metadata": {},
   "outputs": [
    {
     "data": {
      "text/plain": [
       "array([ 62,  85, 171,  36,  72,  51,  43,  38, 119,  89, 173, 136, 168,\n",
       "        83,  33, 112,  17,  91, 106,  60,  99,  86, 116, 164,  75,  53,\n",
       "       183, 176,  15,  25], dtype=int32)"
      ]
     },
     "execution_count": 81,
     "metadata": {},
     "output_type": "execute_result"
    }
   ],
   "source": [
    "arr = np.random.randint(10,200,30)\n",
    "arr"
   ]
  },
  {
   "cell_type": "code",
   "execution_count": 82,
   "id": "cdcbea2f-3acb-4a6b-99c8-5ea13f03f518",
   "metadata": {},
   "outputs": [
    {
     "data": {
      "text/plain": [
       "np.float64(91.23333333333333)"
      ]
     },
     "execution_count": 82,
     "metadata": {},
     "output_type": "execute_result"
    }
   ],
   "source": [
    "arr.mean()"
   ]
  },
  {
   "cell_type": "raw",
   "id": "efc04255-2ca7-4f31-b729-40bb631f891c",
   "metadata": {},
   "source": []
  },
  {
   "cell_type": "raw",
   "id": "486a6ad2-2cb2-40e7-abb0-35a167b7e23c",
   "metadata": {},
   "source": [
    "Q.13 Create a 2d array with 1 on the border and 0 inside"
   ]
  },
  {
   "cell_type": "code",
   "execution_count": 111,
   "id": "fb288b56-6ee0-44b9-bafc-447fefa291bc",
   "metadata": {},
   "outputs": [
    {
     "data": {
      "text/plain": [
       "array([[1, 1, 1, 1, 1, 1],\n",
       "       [1, 1, 1, 1, 1, 1],\n",
       "       [1, 1, 1, 1, 1, 1],\n",
       "       [1, 1, 1, 1, 1, 1],\n",
       "       [1, 1, 1, 1, 1, 1],\n",
       "       [1, 1, 1, 1, 1, 1]], dtype=int32)"
      ]
     },
     "execution_count": 111,
     "metadata": {},
     "output_type": "execute_result"
    }
   ],
   "source": [
    "arr = np.ones((6,6),dtype='i')\n",
    "arr"
   ]
  },
  {
   "cell_type": "code",
   "execution_count": 113,
   "id": "b3b80511-1618-498a-9e0b-1cbdfec5dca3",
   "metadata": {},
   "outputs": [
    {
     "data": {
      "text/plain": [
       "array([[1, 1, 1, 1, 1, 1],\n",
       "       [1, 0, 0, 0, 0, 1],\n",
       "       [1, 0, 0, 0, 0, 1],\n",
       "       [1, 0, 0, 0, 0, 1],\n",
       "       [1, 0, 0, 0, 0, 1],\n",
       "       [1, 1, 1, 1, 1, 1]], dtype=int32)"
      ]
     },
     "execution_count": 113,
     "metadata": {},
     "output_type": "execute_result"
    }
   ],
   "source": [
    "arr[1:-1,1:-1] = 0\n",
    "arr"
   ]
  },
  {
   "cell_type": "raw",
   "id": "9cfdb43c-fd81-48cf-abfb-af9f35ab8e8c",
   "metadata": {},
   "source": []
  },
  {
   "cell_type": "raw",
   "id": "1f593245-2ecb-4735-af69-cca9e2d01a8a",
   "metadata": {},
   "source": [
    "Q.14 Multiply a 5x3 matrix by a 3x2 matrix (real matrix product)"
   ]
  },
  {
   "cell_type": "code",
   "execution_count": 114,
   "id": "edbe7e21-f50d-4da9-a3ea-afbc6f8eaea0",
   "metadata": {},
   "outputs": [
    {
     "data": {
      "text/plain": [
       "array([[7, 8, 9],\n",
       "       [8, 9, 9],\n",
       "       [6, 7, 9],\n",
       "       [7, 8, 8],\n",
       "       [9, 9, 7]], dtype=int32)"
      ]
     },
     "execution_count": 114,
     "metadata": {},
     "output_type": "execute_result"
    }
   ],
   "source": [
    "arr1 = np.random.randint(5,10,size=(5,3))\n",
    "arr1"
   ]
  },
  {
   "cell_type": "code",
   "execution_count": 116,
   "id": "75f28210-9a07-4a88-a391-43391f6b5260",
   "metadata": {},
   "outputs": [
    {
     "data": {
      "text/plain": [
       "array([[5, 7],\n",
       "       [7, 5],\n",
       "       [7, 8]], dtype=int32)"
      ]
     },
     "execution_count": 116,
     "metadata": {},
     "output_type": "execute_result"
    }
   ],
   "source": [
    "arr2 = np.random.randint(5,10,size=(3,2))\n",
    "arr2"
   ]
  },
  {
   "cell_type": "code",
   "execution_count": 119,
   "id": "cfa53ec8-17b9-41ea-addf-3c953c4a91ee",
   "metadata": {},
   "outputs": [
    {
     "data": {
      "text/plain": [
       "array([[154, 161],\n",
       "       [166, 173],\n",
       "       [142, 149],\n",
       "       [147, 153],\n",
       "       [157, 164]], dtype=int32)"
      ]
     },
     "execution_count": 119,
     "metadata": {},
     "output_type": "execute_result"
    }
   ],
   "source": [
    "np.dot(arr1,arr2)"
   ]
  },
  {
   "cell_type": "raw",
   "id": "df044543-44bb-4b8c-9f34-9b91c60d4874",
   "metadata": {},
   "source": []
  },
  {
   "cell_type": "raw",
   "id": "50ee98e9-5abf-48e7-9ae5-10ccbd7b7098",
   "metadata": {},
   "source": [
    "Q.15 Create a random vector of size 10 and sort it"
   ]
  },
  {
   "cell_type": "code",
   "execution_count": 121,
   "id": "75465b8c-a8ef-4aa0-8053-c8856a49b4fe",
   "metadata": {},
   "outputs": [
    {
     "data": {
      "text/plain": [
       "array([9, 6, 5, 8, 9, 8, 7, 7, 6, 5], dtype=int32)"
      ]
     },
     "execution_count": 121,
     "metadata": {},
     "output_type": "execute_result"
    }
   ],
   "source": [
    "arr = np.random.randint(5,10,10)\n",
    "arr"
   ]
  },
  {
   "cell_type": "code",
   "execution_count": 124,
   "id": "d2b221e5-29fa-4dbb-8ca4-3797b301f12b",
   "metadata": {},
   "outputs": [
    {
     "data": {
      "text/plain": [
       "array([5, 5, 6, 6, 7, 7, 8, 8, 9, 9], dtype=int32)"
      ]
     },
     "execution_count": 124,
     "metadata": {},
     "output_type": "execute_result"
    }
   ],
   "source": [
    "np.sort(arr)"
   ]
  },
  {
   "cell_type": "raw",
   "id": "47f1fe01-6175-49c6-b9f6-c54956b70780",
   "metadata": {},
   "source": []
  },
  {
   "cell_type": "raw",
   "id": "ea16c51c-bc0d-4019-94ec-71737efd4ee4",
   "metadata": {},
   "source": [
    "Q.16 How to convert a float (32 bits) array into an integer (32 bits) in place?"
   ]
  },
  {
   "cell_type": "code",
   "execution_count": 138,
   "id": "10c09bca-e9c6-41c9-ac64-c0d7607784a9",
   "metadata": {},
   "outputs": [
    {
     "name": "stdout",
     "output_type": "stream",
     "text": [
      "float64\n"
     ]
    },
    {
     "data": {
      "text/plain": [
       "array([[0., 0., 0.],\n",
       "       [0., 0., 0.],\n",
       "       [0., 0., 0.]])"
      ]
     },
     "execution_count": 138,
     "metadata": {},
     "output_type": "execute_result"
    }
   ],
   "source": [
    "arr = np.zeros((3,3))\n",
    "print(arr.dtype)\n",
    "arr"
   ]
  },
  {
   "cell_type": "code",
   "execution_count": 139,
   "id": "b097c1e1-4f94-4fef-99a6-f16cd7e906c3",
   "metadata": {},
   "outputs": [
    {
     "name": "stdout",
     "output_type": "stream",
     "text": [
      "int32\n"
     ]
    },
    {
     "data": {
      "text/plain": [
       "array([[0, 0, 0],\n",
       "       [0, 0, 0],\n",
       "       [0, 0, 0]], dtype=int32)"
      ]
     },
     "execution_count": 139,
     "metadata": {},
     "output_type": "execute_result"
    }
   ],
   "source": [
    "arr = arr.astype('i')\n",
    "print(arr.dtype)\n",
    "arr"
   ]
  },
  {
   "cell_type": "raw",
   "id": "c67ecd89-1103-410d-97e1-b44ff3c093e7",
   "metadata": {},
   "source": []
  },
  {
   "cell_type": "raw",
   "id": "d41b9fe6-0b3c-4417-8128-d001d0e4ad7d",
   "metadata": {},
   "source": [
    "Q.17 How to swap two rows of an array?"
   ]
  },
  {
   "cell_type": "code",
   "execution_count": null,
   "id": "63e5199f-2f4d-43fc-919f-15c1dcc97e76",
   "metadata": {},
   "outputs": [],
   "source": [
    "dont know "
   ]
  },
  {
   "cell_type": "code",
   "execution_count": null,
   "id": "52080789-e751-461c-96e7-ad8cefff09dc",
   "metadata": {},
   "outputs": [],
   "source": []
  },
  {
   "cell_type": "raw",
   "id": "28d9469a-1efd-4627-b541-8a630616c31e",
   "metadata": {},
   "source": []
  }
 ],
 "metadata": {
  "kernelspec": {
   "display_name": "Python 3 (ipykernel)",
   "language": "python",
   "name": "python3"
  },
  "language_info": {
   "codemirror_mode": {
    "name": "ipython",
    "version": 3
   },
   "file_extension": ".py",
   "mimetype": "text/x-python",
   "name": "python",
   "nbconvert_exporter": "python",
   "pygments_lexer": "ipython3",
   "version": "3.12.7"
  }
 },
 "nbformat": 4,
 "nbformat_minor": 5
}
