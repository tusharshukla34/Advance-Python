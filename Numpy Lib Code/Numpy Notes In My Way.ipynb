{
 "cells": [
  {
   "cell_type": "code",
   "execution_count": null,
   "id": "b9941c00-f8f2-4f41-af7e-b3aecc9478c1",
   "metadata": {},
   "outputs": [],
   "source": [
    "#                                   day  16-09-2025 notes in my way"
   ]
  },
  {
   "cell_type": "code",
   "execution_count": 5,
   "id": "eaef198e-6783-4dbb-bad2-59b03b6e9664",
   "metadata": {},
   "outputs": [
    {
     "name": "stdout",
     "output_type": "stream",
     "text": [
      "[7, 3, 4, 2, 34, 3, 3]\n",
      "<class 'list'>\n"
     ]
    }
   ],
   "source": [
    "# this is list \n",
    "arr1 = ([7,3,4,2,34,3,3])\n",
    "print(arr1)\n",
    "print(type(arr1))"
   ]
  },
  {
   "cell_type": "code",
   "execution_count": 24,
   "id": "c371b557-e8be-44db-881b-a86899c9cee2",
   "metadata": {},
   "outputs": [
    {
     "ename": "NameError",
     "evalue": "name 'numpy' is not defined",
     "output_type": "error",
     "traceback": [
      "\u001b[1;31m---------------------------------------------------------------------------\u001b[0m",
      "\u001b[1;31mNameError\u001b[0m                                 Traceback (most recent call last)",
      "Cell \u001b[1;32mIn[24], line 2\u001b[0m\n\u001b[0;32m      1\u001b[0m \u001b[38;5;66;03m# to declare arrray we have to use numpy\u001b[39;00m\n\u001b[1;32m----> 2\u001b[0m arr1 \u001b[38;5;241m=\u001b[39m numpy\u001b[38;5;241m.\u001b[39marray([\u001b[38;5;241m1\u001b[39m,\u001b[38;5;241m2\u001b[39m,\u001b[38;5;241m3\u001b[39m,\u001b[38;5;241m4\u001b[39m,\u001b[38;5;241m5\u001b[39m,\u001b[38;5;241m6\u001b[39m,\u001b[38;5;241m7\u001b[39m,\u001b[38;5;241m83\u001b[39m])\n\u001b[0;32m      3\u001b[0m \u001b[38;5;28mprint\u001b[39m(arr1)\n",
      "\u001b[1;31mNameError\u001b[0m: name 'numpy' is not defined"
     ]
    }
   ],
   "source": [
    "# to declare arrray we have to use numpy\n",
    "arr1 = numpy.array([1,2,3,4,5,6,7,83])\n",
    "print(arr1)"
   ]
  },
  {
   "cell_type": "code",
   "execution_count": 9,
   "id": "31236321-3bc6-4e2f-bf75-89c267ee0f98",
   "metadata": {},
   "outputs": [
    {
     "name": "stdout",
     "output_type": "stream",
     "text": [
      "[ 1  3  4  5  6  7 89]\n",
      "<class 'numpy.ndarray'>\n"
     ]
    }
   ],
   "source": [
    "# to declare arrray we have to use numpy\n",
    "\n",
    "import numpy as np\n",
    "arr1 = np.array([1,3,4,5,6,7,89])\n",
    "print(arr1)\n",
    "print(type(arr1))\n",
    "\n",
    "# ndarray\n",
    "# A multidimensional, homogeneous array object → meaning all elements must be of the same data type (int, float, etc.)."
   ]
  },
  {
   "cell_type": "code",
   "execution_count": 19,
   "id": "731727a1-739d-4df7-9273-1563b503a822",
   "metadata": {},
   "outputs": [
    {
     "name": "stdout",
     "output_type": "stream",
     "text": [
      "[ 1  3  4  5  6  7 89]\n",
      "<class 'numpy.ndarray'>\n",
      "1569232358448\n"
     ]
    },
    {
     "data": {
      "text/plain": [
       "array([ 1,  3,  4,  5,  6,  7, 89])"
      ]
     },
     "execution_count": 19,
     "metadata": {},
     "output_type": "execute_result"
    }
   ],
   "source": [
    "arr1 = np.array([1,3,4,5,6,7,89])\n",
    "print(arr1)\n",
    "print(type(arr1))\n",
    "print(id(arr1))\n",
    "arr1"
   ]
  },
  {
   "cell_type": "code",
   "execution_count": 23,
   "id": "f3a497fb-2ce6-45b4-b32c-ddbed45e5fdc",
   "metadata": {},
   "outputs": [
    {
     "name": "stdout",
     "output_type": "stream",
     "text": [
      "['1' '3' '4' '5' '6' '7' '89' 'tushar']\n",
      "<class 'numpy.ndarray'>\n"
     ]
    },
    {
     "data": {
      "text/plain": [
       "array(['1', '3', '4', '5', '6', '7', '89', 'tushar'], dtype='<U21')"
      ]
     },
     "execution_count": 23,
     "metadata": {},
     "output_type": "execute_result"
    }
   ],
   "source": [
    "arr1 = np.array([1,3,4,5,6,7,89,\"tushar\"])\n",
    "print(arr1)\n",
    "print(type(arr1))\n",
    "arr1\n",
    "\n",
    "# In a NumPy array, all elements must have the same data type.\n",
    "   # If you mix numbers (1, 3, 4...) and a string ('tushar'),\n",
    "   # NumPy finds a common data type that can hold everything safely.\n",
    "   # The \"most general type\" here is string → so all numbers are converted to strings."
   ]
  },
  {
   "cell_type": "code",
   "execution_count": null,
   "id": "5d423b9f-3536-45c8-a912-cc9a463abbd5",
   "metadata": {},
   "outputs": [],
   "source": []
  },
  {
   "cell_type": "code",
   "execution_count": null,
   "id": "472c61bb-07c8-489e-8e3e-27061b4f233c",
   "metadata": {},
   "outputs": [],
   "source": []
  },
  {
   "cell_type": "code",
   "execution_count": null,
   "id": "536705a9-8c25-4166-8c46-9f4e560e7caf",
   "metadata": {},
   "outputs": [],
   "source": [
    "#                                   day  22-09-2025 notes in my way "
   ]
  },
  {
   "cell_type": "markdown",
   "id": "cd42d4e9-518d-4795-a38c-69244cf2a88b",
   "metadata": {},
   "source": [
    "<!-- <div style=\"font-family: Arial, sans-serif; background: #1e1e1e; color: #d4d4d4; border: 2px solid #4a90e2; border-radius: 12px; padding: 20px; line-height: 1.6; max-width: 800px; box-shadow: 2px 2px 12px rgba(0,0,0,0.4);\"> -->\n",
    "\n",
    "  <h2 style=\"color:#4a90e2; text-align:center; margin-top:0;\">NumPy Array Creation Explained</h2>\n",
    "\n",
    "  <h3 style=\"color:#dcdcaa;\">1. Two ways of creating a NumPy array</h3>\n",
    "\n",
    "  <h4 style=\"color:#e67e22;\">a) Manually</h4>\n",
    "  <pre style=\"background:#252526; color:#d4d4d4; padding:10px; border-radius:8px; font-size:14px;\">\n",
    "arr1 = np.array([1, 3, 4, 5, 6])\n",
    "  </pre>\n",
    "  <ul style=\"margin: 10px 0 20px 20px;\">\n",
    "    <li>Here you are explicitly passing a <b style=\"color:#c586c0;\">Python list</b> to <code style=\"color:#4ec9b0;\">np.array()</code>.</li>\n",
    "    <li>NumPy converts that list into its own array object.</li>\n",
    "    <li>Good when you <b style=\"color:#c586c0;\">already know the values</b>.</li>\n",
    "  </ul>\n",
    "\n",
    "  <h4 style=\"color:#e67e22;\">b) Automatically</h4>\n",
    "  <pre style=\"background:#252526; color:#d4d4d4; padding:10px; border-radius:8px; font-size:14px;\">\n",
    "arr1 = np.arange(size)\n",
    "  </pre>\n",
    "  <p>→ <code style=\"color:#4ec9b0;\">np.arange()</code> itself is a NumPy function that <b style=\"color:#c586c0;\">creates and returns an array</b>.</p>\n",
    "  <p><b>Example:</b></p>\n",
    "  <ul style=\"margin: 10px 0 20px 20px;\">\n",
    "    <li><code style=\"color:#4ec9b0;\">np.arange(5)</code> → <code style=\"color:#dcdcaa;\">[0 1 2 3 4]</code> (NumPy array, not Python list).</li>\n",
    "    <li>You don’t need to wrap it inside <code style=\"color:#4ec9b0;\">np.array()</code> because it already produces a NumPy array.</li>\n",
    "  </ul>\n",
    "\n",
    "  <h3 style=\"color:#dcdcaa;\">2. How does Python/NumPy know <code style=\"color:#4ec9b0;\">arr1</code> is an array?</h3>\n",
    "  <p>When you run:</p>\n",
    "  <pre style=\"background:#252526; color:#d4d4d4; padding:10px; border-radius:8px; font-size:14px;\">\n",
    "arr1 = np.arange(size)\n",
    "  </pre>\n",
    "  <p>The function <code style=\"color:#4ec9b0;\">np.arange</code> returns an object of type <code style=\"color:#4ec9b0;\">numpy.ndarray</code>.</p>\n",
    "  <p>So <code style=\"color:#4ec9b0;\">arr1</code> automatically becomes a NumPy array.</p>\n",
    "\n",
    "  <p>You can check:</p>\n",
    "  <pre style=\"background:#252526; color:#d4d4d4; padding:10px; border-radius:8px; font-size:14px;\">\n",
    "type(arr1)\n",
    "  </pre>\n",
    "  <p><b>Output:</b></p>\n",
    "  <pre style=\"background:#252526; color:#b5cea8; padding:10px; border-radius:8px; font-size:14px;\">\n",
    "&lt;class 'numpy.ndarray'&gt;\n",
    "  </pre>\n",
    "\n",
    "  <h3 style=\"color:#dcdcaa;\">3. Why the difference?</h3>\n",
    "  <ul style=\"margin: 10px 0 20px 20px;\">\n",
    "    <li><code style=\"color:#4ec9b0;\">np.array([...])</code> → convert an existing Python list/tuple into a NumPy array.</li>\n",
    "    <li><code style=\"color:#4ec9b0;\">np.arange(...)</code> → directly generate a NumPy array with a sequence of numbers.</li>\n",
    "  </ul>\n",
    "\n",
    "  <p style=\"background:#2d2d30; color:#d4d4d4; padding:12px; border-left:4px solid #4a90e2; border-radius:6px;\">\n",
    "  ✅ In your big example, you used <code style=\"color:#4ec9b0;\">np.arange(size)</code> because you wanted a <b style=\"color:#c586c0;\">huge range of numbers quickly</b> without writing them manually.\n",
    "  </p>\n",
    "<!-- </div> -->\n"
   ]
  },
  {
   "cell_type": "code",
   "execution_count": null,
   "id": "5cc9b89b-aeae-4757-b079-6a11c71869ad",
   "metadata": {},
   "outputs": [],
   "source": []
  },
  {
   "cell_type": "code",
   "execution_count": null,
   "id": "c2082430-4de5-440c-8ce7-70f92242d5d8",
   "metadata": {},
   "outputs": [
    {
     "ename": "",
     "evalue": "",
     "output_type": "error",
     "traceback": [
      "\u001b[1;31mRunning cells with 'Python 3.13.7' requires the ipykernel package.\n",
      "\u001b[1;31m<a href='command:jupyter.createPythonEnvAndSelectController'>Create a Python Environment</a> with the required packages."
     ]
    }
   ],
   "source": [
    "import numpy as np\n",
    "import time\n",
    "\n",
    "size = 5000000\n",
    "list1 = range(size)\n",
    "list2 = range(size)\n",
    "start = time.time()\n",
    "result = [x+y for x,y in zip(list1,list2)]\n",
    "end = time.time()\n",
    "print(\"Total time taken by list to run the program is :\", end - start)\n",
    "\n",
    "arr1 = np.arange(size)\n",
    "arr2 = np.arange(size)\n",
    "start = time.time()\n",
    "result = arr1 + arr2\n",
    "end = time.time()\n",
    "print(\"Total time taken by array to run the program is :\", end - start)"
   ]
  },
  {
   "cell_type": "code",
   "execution_count": 9,
   "id": "6f4f157b-4fea-4f30-8837-bde7781ce336",
   "metadata": {},
   "outputs": [
    {
     "name": "stdout",
     "output_type": "stream",
     "text": [
      "5.57 μs ± 465 ns per loop (mean ± std. dev. of 7 runs, 100,000 loops each)\n"
     ]
    }
   ],
   "source": [
    "%timeit np.arange(1,90)**2"
   ]
  },
  {
   "cell_type": "code",
   "execution_count": 11,
   "id": "0023898a-a050-4f48-9d81-579f06e39f8e",
   "metadata": {},
   "outputs": [
    {
     "name": "stdout",
     "output_type": "stream",
     "text": [
      "14.5 μs ± 1.3 μs per loop (mean ± std. dev. of 7 runs, 100,000 loops each)\n"
     ]
    }
   ],
   "source": [
    "%timeit [j**2 for j in range(1,90)]"
   ]
  },
  {
   "cell_type": "code",
   "execution_count": 10,
   "id": "0ff93e3d-d41b-493c-a584-48e6278df2a4",
   "metadata": {},
   "outputs": [
    {
     "name": "stdout",
     "output_type": "stream",
     "text": [
      "Time for adding 100 million numbers: 0.6386175155639648 seconds\n",
      "Time for multiplying 100 million numbers: 0.821662425994873 seconds\n"
     ]
    }
   ],
   "source": [
    "import numpy as np\n",
    "import time\n",
    "\n",
    "# Create a HUGE array (100 million elements)\n",
    "size = 100_000_000\n",
    "arr1 = np.arange(size)\n",
    "arr2 = np.arange(size)\n",
    "\n",
    "# Time element-wise addition\n",
    "start = time.time()\n",
    "result = arr1 + arr2\n",
    "end = time.time()\n",
    "print(\"Time for adding 100 million numbers:\", end - start, \"seconds\")\n",
    "\n",
    "# Time element-wise multiplication\n",
    "start = time.time()\n",
    "result = arr1 * arr2\n",
    "end = time.time()\n",
    "print(\"Time for multiplying 100 million numbers:\", end - start, \"seconds\")\n"
   ]
  },
  {
   "cell_type": "code",
   "execution_count": null,
   "id": "f00f1a56-93cf-492a-82fc-91ce70df19b5",
   "metadata": {},
   "outputs": [],
   "source": []
  }
 ],
 "metadata": {
  "kernelspec": {
   "display_name": "Python 3 (ipykernel)",
   "language": "python",
   "name": "python3"
  },
  "language_info": {
   "codemirror_mode": {
    "name": "ipython",
    "version": 3
   },
   "file_extension": ".py",
   "mimetype": "text/x-python",
   "name": "python",
   "nbconvert_exporter": "python",
   "pygments_lexer": "ipython3",
   "version": "3.12.7"
  }
 },
 "nbformat": 4,
 "nbformat_minor": 5
}
