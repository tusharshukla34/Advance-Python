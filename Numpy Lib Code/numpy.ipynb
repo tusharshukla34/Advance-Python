{
 "cells": [
  {
   "cell_type": "code",
   "execution_count": null,
   "id": "2289e669-55ab-42f8-82c8-508672e2d963",
   "metadata": {},
   "outputs": [],
   "source": [
    "# 16-09-2025"
   ]
  },
  {
   "cell_type": "code",
   "execution_count": 9,
   "id": "ac8b2e38-c87c-49b2-8f0b-88b61781f48c",
   "metadata": {},
   "outputs": [
    {
     "name": "stdout",
     "output_type": "stream",
     "text": [
      "Requirement already satisfied: numpy in c:\\users\\hp\\anaconda3\\lib\\site-packages (2.3.3)\n",
      "Note: you may need to restart the kernel to use updated packages.\n"
     ]
    }
   ],
   "source": [
    "pip install numpy"
   ]
  },
  {
   "cell_type": "code",
   "execution_count": 1,
   "id": "cb01ba3b-0995-4885-b485-be8bedb203a7",
   "metadata": {},
   "outputs": [],
   "source": [
    "import numpy as np"
   ]
  },
  {
   "cell_type": "code",
   "execution_count": 2,
   "id": "07ce2a83-2e80-4dfd-b86e-7165f883bdd3",
   "metadata": {},
   "outputs": [
    {
     "name": "stdout",
     "output_type": "stream",
     "text": [
      "<class 'list'>\n"
     ]
    }
   ],
   "source": [
    "a = [1,3,45,6]\n",
    "print(type(a))"
   ]
  },
  {
   "cell_type": "code",
   "execution_count": 11,
   "id": "ac1bfdbc-6028-4b08-b5c6-a6d6b6255c7a",
   "metadata": {},
   "outputs": [
    {
     "name": "stdout",
     "output_type": "stream",
     "text": [
      "<class 'numpy.ndarray'>\n"
     ]
    }
   ],
   "source": [
    "arr1 = np.array([1,2,3,45,6])\n",
    "print(type(arr1))  # n dimentional"
   ]
  },
  {
   "cell_type": "code",
   "execution_count": 6,
   "id": "6caeb1c9-d3ee-4818-b8a6-b604158f6ff7",
   "metadata": {
    "scrolled": true
   },
   "outputs": [
    {
     "data": {
      "text/plain": [
       "array(['a', '4', '6', '4', '3', '2'], dtype='<U11')"
      ]
     },
     "execution_count": 6,
     "metadata": {},
     "output_type": "execute_result"
    }
   ],
   "source": [
    "arr1 = np.array([\"a\",4,6,4,3,2])\n",
    "arr1"
   ]
  },
  {
   "cell_type": "code",
   "execution_count": null,
   "id": "bb5655d7-f1de-4e37-aeb3-7485220d3d57",
   "metadata": {},
   "outputs": [],
   "source": [
    "                                             # 22-09-2025"
   ]
  },
  {
   "cell_type": "code",
   "execution_count": 1,
   "id": "37bd207e-95f1-44a3-af14-9f2a6430b71b",
   "metadata": {},
   "outputs": [],
   "source": [
    "import numpy as np"
   ]
  },
  {
   "cell_type": "code",
   "execution_count": 3,
   "id": "a091e792-7f92-417f-a340-d9255d5b8be9",
   "metadata": {},
   "outputs": [
    {
     "name": "stdout",
     "output_type": "stream",
     "text": [
      "[1 2 3 4 4]\n",
      "<class 'numpy.ndarray'>\n"
     ]
    }
   ],
   "source": [
    "arr1 = np.array([1,2,3,4,4])\n",
    "print(arr1)\n",
    "print(type(arr1))"
   ]
  },
  {
   "cell_type": "code",
   "execution_count": 1,
   "id": "923833aa-56bd-46f4-88ce-8583dd7c11a5",
   "metadata": {},
   "outputs": [
    {
     "name": "stdout",
     "output_type": "stream",
     "text": [
      "total time taken by list 20.76385235786438\n",
      "total time taken by array 3.3303639888763428\n"
     ]
    }
   ],
   "source": [
    "# which is fast  list or array\n",
    "\n",
    "import numpy as np\n",
    "import time as t\n",
    "\n",
    "size = 100000000\n",
    "list1 = range(size)\n",
    "list2 = range(size)\n",
    "start = t.time()\n",
    "result = [x+y for x,y in zip(list1,list2)]\n",
    "end = t.time()\n",
    "print(\"total time taken by list\", end - start)\n",
    "\n",
    "arr1 = np.arange(size)\n",
    "arr2 = np.arange(size)\n",
    "start = t.time()\n",
    "result = arr1 + arr2\n",
    "end = t.time()\n",
    "print(\"total time taken by array\", end - start)"
   ]
  },
  {
   "cell_type": "code",
   "execution_count": 5,
   "id": "8e940863-9f4d-4a76-8ac8-36689fe6c5d2",
   "metadata": {},
   "outputs": [
    {
     "name": "stdout",
     "output_type": "stream",
     "text": [
      "total time taken by list 0.0\n",
      "total time taken by array 0.0\n"
     ]
    }
   ],
   "source": [
    "import numpy as np\n",
    "import time as t\n",
    "\n",
    "size = 10\n",
    "list1 = range(size)\n",
    "list2 = range(size)\n",
    "start = t.time()\n",
    "result = [x+y for x,y in zip(list1,list2)]\n",
    "end = t.time()\n",
    "print(\"total time taken by list\", end - start)\n",
    "\n",
    "arr1 = np.arange(size)\n",
    "arr2 = np.arange(size)\n",
    "start = t.time()\n",
    "result = arr1 + arr2\n",
    "end = t.time()\n",
    "print(\"total time taken by array\", end - start)"
   ]
  },
  {
   "cell_type": "code",
   "execution_count": 3,
   "id": "ebd30ede-f59d-4bfe-8307-84ed3b726b96",
   "metadata": {},
   "outputs": [
    {
     "name": "stdout",
     "output_type": "stream",
     "text": [
      "4.06 μs ± 206 ns per loop (mean ± std. dev. of 7 runs, 100,000 loops each)\n"
     ]
    }
   ],
   "source": [
    "# array time\n",
    "%timeit np.arange(1,90)**2"
   ]
  },
  {
   "cell_type": "code",
   "execution_count": 4,
   "id": "7713af10-b3a6-4f2b-9a1b-6800f4b79a2d",
   "metadata": {},
   "outputs": [
    {
     "name": "stdout",
     "output_type": "stream",
     "text": [
      "11.5 μs ± 1.4 μs per loop (mean ± std. dev. of 7 runs, 100,000 loops each)\n"
     ]
    }
   ],
   "source": [
    "# list time\n",
    "%timeit [j**2 for j in range(1,90)]"
   ]
  },
  {
   "cell_type": "code",
   "execution_count": null,
   "id": "227f6013-a470-40f6-ab49-d8f47ab84b9c",
   "metadata": {},
   "outputs": [],
   "source": []
  },
  {
   "cell_type": "code",
   "execution_count": null,
   "id": "6726d1e9-9dc5-4703-9d3d-f4b54f4f5476",
   "metadata": {},
   "outputs": [],
   "source": [
    "                               # 24-09-2025"
   ]
  },
  {
   "cell_type": "code",
   "execution_count": 3,
   "id": "92bcb308-d558-46c4-abe6-aee234423e99",
   "metadata": {},
   "outputs": [
    {
     "ename": "ZeroDivisionError",
     "evalue": "float division by zero",
     "output_type": "error",
     "traceback": [
      "\u001b[1;31m---------------------------------------------------------------------------\u001b[0m",
      "\u001b[1;31mZeroDivisionError\u001b[0m                         Traceback (most recent call last)",
      "Cell \u001b[1;32mIn[3], line 15\u001b[0m\n\u001b[0;32m     13\u001b[0m t4 \u001b[38;5;241m=\u001b[39m time\u001b[38;5;241m.\u001b[39mtime()\n\u001b[0;32m     14\u001b[0m t5 \u001b[38;5;241m=\u001b[39m t4 \u001b[38;5;241m-\u001b[39m t3\n\u001b[1;32m---> 15\u001b[0m tq \u001b[38;5;241m=\u001b[39m t5 \u001b[38;5;241m/\u001b[39m t\n\u001b[0;32m     16\u001b[0m \u001b[38;5;28mprint\u001b[39m(\u001b[38;5;124m\"\u001b[39m\u001b[38;5;124mlist :\u001b[39m\u001b[38;5;124m\"\u001b[39m,tq)\n",
      "\u001b[1;31mZeroDivisionError\u001b[0m: float division by zero"
     ]
    }
   ],
   "source": [
    "import numpy as np\n",
    "import time\n",
    "\n",
    "t1 = time.time()\n",
    "data = np.array([1,2,3,4,5])\n",
    "t2 = time.time()\n",
    "t = t2 - t1\n",
    "\n",
    "\n",
    "\n",
    "t3 = time.time()\n",
    "data = [1,2,3,4,5]\n",
    "t4 = time.time()\n",
    "t5 = t4 - t3\n",
    "tq = t5 / t\n",
    "print(\"list :\",tq)"
   ]
  },
  {
   "cell_type": "code",
   "execution_count": null,
   "id": "88a1aa28-0ca4-48cb-9e58-01cdab15c8f5",
   "metadata": {},
   "outputs": [],
   "source": []
  }
 ],
 "metadata": {
  "kernelspec": {
   "display_name": "Python [conda env:base] *",
   "language": "python",
   "name": "conda-base-py"
  },
  "language_info": {
   "codemirror_mode": {
    "name": "ipython",
    "version": 3
   },
   "file_extension": ".py",
   "mimetype": "text/x-python",
   "name": "python",
   "nbconvert_exporter": "python",
   "pygments_lexer": "ipython3",
   "version": "3.12.7"
  }
 },
 "nbformat": 4,
 "nbformat_minor": 5
}
