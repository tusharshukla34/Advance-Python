{
 "cells": [
  {
   "cell_type": "markdown",
   "id": "122cdd4d",
   "metadata": {},
   "source": [
    "<div style=\"font-family:'Segoe UI',sans-serif;background:#f9f9f9;border:2px solid #ddd;\n",
    "border-radius:10px;padding:12px;line-height:1.6;\">\n",
    "  <h2>📘 Arrays</h2>\n",
    "  \n",
    "  <p><b>Definition:</b> NumPy arrays (<code>ndarray</code>) are <b>fast, memory-efficient containers</b> \n",
    "  for <b>homogeneous data</b>. They allow <b>vectorized operations</b> for numerical computations.</p>\n",
    "  \n",
    "  <h4>🔑 Important Points</h4>\n",
    "  <ul>\n",
    "    <li>All elements must be of the same data type (homogeneous)</li>\n",
    "    <li>Supports n-dimensional arrays (1D, 2D, 3D, …)</li>\n",
    "    <li>Faster and more memory-efficient than Python lists</li>\n",
    "    <li>Vectorized operations are applied element-wise</li>\n",
    "    <li>Use <code>arr.shape</code>, <code>arr.ndim</code>, <code>arr.size</code> to inspect arrays</li>\n",
    "  </ul>\n",
    "  \n",
    "  <h4>📌 1D Array</h4>\n",
    "  <p><b>Definition:</b> A single row of elements. Example: <code>[1, 2, 3, 4]</code></p>\n",
    "  <p><b>Syntax:</b></p>\n",
    "  <pre style=\"background:#f4f4f4;padding:8px;border-radius:5px;\">\n",
    "arr1d = np.array([1, 2, 3, 4])\n",
    "print(arr1d)\n",
    "print(arr1d.ndim)  # 1\n",
    "  </pre>\n",
    "  \n",
    "  <h4>📌 2D Array</h4>\n",
    "  <p><b>Definition:</b> A table of elements arranged in <b>rows and columns</b>. Example: <code>[[1,2,3],[4,5,6]]</code></p>\n",
    "  <p><b>Syntax:</b></p>\n",
    "  <pre style=\"background:#f4f4f4;padding:8px;border-radius:5px;\">\n",
    "arr2d = np.array([[1,2,3],\n",
    "                  [4,5,6]])\n",
    "print(arr2d)\n",
    "print(arr2d.ndim)  # 2\n",
    "print(arr2d.shape) # (2, 3)\n",
    "  </pre>\n",
    "  \n",
    "  <h4>📌 3D Array</h4>\n",
    "  <p><b>Definition:</b> An array of matrices stacked along a new axis (depth, rows, columns). Example: \n",
    "  <code>[[[1,2,3],[4,5,6]], [[7,8,9],[10,11,12]]]</code></p>\n",
    "  <p><b>Syntax:</b></p>\n",
    "  <pre style=\"background:#f4f4f4;padding:8px;border-radius:5px;\">\n",
    "arr3d = np.array([[[1,2,3],[4,5,6]],\n",
    "                  [[7,8,9],[10,11,12]]])\n",
    "print(arr3d)\n",
    "print(arr3d.ndim)  # 3\n",
    "print(arr3d.shape) # (2, 2, 3)\n",
    "  </pre>\n",
    "  \n",
    "  <h4>💻 Example Code</h4>\n",
    "  \n",
    "  <pre style=\"background:#ecf0f1;padding:10px;border-radius:5px;\">\n",
    "import numpy as np\n",
    "\n",
    "# 1D array\n",
    "arr1 = np.array([1,2,3,4])\n",
    "print(arr1)       # [1 2 3 4]\n",
    "print(arr1.ndim)  # 1\n",
    "\n",
    "# 2D array\n",
    "arr2 = np.array([[1,2,3],[4,5,6]])\n",
    "print(arr2)\n",
    "print(arr2.ndim)  # 2\n",
    "\n",
    "# 3D array\n",
    "arr3 = np.array([[[1,2,3],[4,5,6]],[[7,8,9],[10,11,12]]])\n",
    "print(arr3)\n",
    "print(arr3.ndim)  # 3\n",
    "  </pre>\n",
    "</div>\n"
   ]
  },
  {
   "cell_type": "code",
   "execution_count": 6,
   "id": "94bb5428-f72a-4cbc-92b2-f00ad3dd98be",
   "metadata": {},
   "outputs": [
    {
     "name": "stdout",
     "output_type": "stream",
     "text": [
      "1D array :\n",
      "[6 7 8 9 0 6]\n",
      "1\n",
      "\n",
      "2D array :\n",
      "[[1 2 3]\n",
      " [4 5 6]]\n",
      "2\n",
      "\n",
      "3D array :\n",
      "[[[ 1  2  3]\n",
      "  [ 4  5  6]]\n",
      "\n",
      " [[ 7  8  9]\n",
      "  [10 11 12]]]\n",
      "3\n"
     ]
    }
   ],
   "source": [
    "import numpy as np \n",
    "\n",
    "print(\"1D array :\")\n",
    "arr1 = np.array([6,7,8,9,0,6])\n",
    "print(arr1)\n",
    "print(arr1.ndim)\n",
    "print()\n",
    "\n",
    "print(\"2D array :\")\n",
    "arr2 = np.array([[1,2,3],[4,5,6]])\n",
    "print(arr2)\n",
    "print(arr2.ndim)\n",
    "\n",
    "print()\n",
    "print(\"3D array :\")\n",
    "arr3 = np.array([[[1,2,3],[4,5,6]],[[7,8,9],[10,11,12]]])\n",
    "print(arr3)\n",
    "print(arr3.ndim)\n"
   ]
  },
  {
   "cell_type": "markdown",
   "id": "481df3b8",
   "metadata": {},
   "source": [
    "<div style=\"font-family:'Segoe UI',sans-serif;background:#f9f9f9;border:2px solid #ddd;\n",
    "border-radius:10px;padding:12px;line-height:1.6;\">\n",
    "  <h2>📘 Memory Allocation</h2>\n",
    "  \n",
    "  <!-- List Section -->\n",
    "  <h3>📝 List</h3>\n",
    "  <p><b>Definition:</b> In Python, a <b>list</b> is a dynamic array that stores \n",
    "  <b>references (addresses) to objects</b>, not the actual values. \n",
    "  Memory is allocated for the list container and its internal array of references, \n",
    "  which grows dynamically.</p>\n",
    "  \n",
    "  <h4>🔑 Important Points (List)</h4>\n",
    "  <ul>\n",
    "    <li>Lists store <b>references</b>, not the actual values.</li>\n",
    "    <li>Memory is allocated <b>dynamically</b> and expands when needed.</li>\n",
    "    <li>Python <b>over-allocates extra space</b> to reduce frequent reallocations.</li>\n",
    "    <li>Lists can hold <b>heterogeneous data types</b> since only references are stored.</li>\n",
    "    <li>Growing a list may require copying references to a larger memory block.</li>\n",
    "  </ul>\n",
    "  \n",
    "  <!-- Array Section -->\n",
    "  <h3>📝 Array (NumPy)</h3>\n",
    "  <p><b>Definition:</b> A <b>NumPy array</b> is a homogeneous collection of elements \n",
    "  stored in <b>contiguous memory blocks</b>. It stores the actual values (not references), \n",
    "  making it more memory-efficient and faster for numerical operations.</p>\n",
    "  \n",
    "  <h4>🔑 Important Points (Array)</h4>\n",
    "  <ul>\n",
    "    <li>Arrays store <b>actual values</b> in memory, not references.</li>\n",
    "    <li>Memory is <b>contiguous</b>, making access faster.</li>\n",
    "    <li>Efficient for <b>mathematical and numerical operations</b>.</li>\n",
    "    <li>Array elements must be of the <b>same data type</b> (homogeneous).</li>\n",
    "    <li>Supports <b>vectorized operations</b> for speed.</li>\n",
    "  </ul>\n",
    "  \n",
    "  <!-- Comparison Table -->\n",
    "  <h3>📊 List vs Array</h3>\n",
    "  <table style=\"width:100%;border-collapse:collapse;margin-top:10px;\">\n",
    "    <tr style=\"background:#e0e0e0;\">\n",
    "      <th style=\"padding:8px;border:1px solid #ccc;\">Aspect</th>\n",
    "      <th style=\"padding:8px;border:1px solid #ccc;\">List</th>\n",
    "      <th style=\"padding:8px;border:1px solid #ccc;\">Array (NumPy)</th>\n",
    "    </tr>\n",
    "    <tr>\n",
    "      <td style=\"padding:8px;border:1px solid #ccc;\">Memory Usage</td>\n",
    "      <td style=\"padding:8px;border:1px solid #ccc;\">More (stores references)</td>\n",
    "      <td style=\"padding:8px;border:1px solid #ccc;\">Less (stores actual values in contiguous blocks)</td>\n",
    "    </tr>\n",
    "    <tr>\n",
    "      <td style=\"padding:8px;border:1px solid #ccc;\">Speed</td>\n",
    "      <td style=\"padding:8px;border:1px solid #ccc;\">Slower for numerical operations</td>\n",
    "      <td style=\"padding:8px;border:1px solid #ccc;\">Faster (vectorized operations)</td>\n",
    "    </tr>\n",
    "    <tr>\n",
    "      <td style=\"padding:8px;border:1px solid #ccc;\">Data Type</td>\n",
    "      <td style=\"padding:8px;border:1px solid #ccc;\">Can hold multiple data types</td>\n",
    "      <td style=\"padding:8px;border:1px solid #ccc;\">Homogeneous (same data type)</td>\n",
    "    </tr>\n",
    "  </table>\n",
    "  \n",
    "  <!-- Code Example -->\n",
    "  <pre style=\"background:#ecf0f1;padding:10px;border-radius:5px;margin-top:12px;\">\n",
    "import numpy as np, sys\n",
    "lst = [1,2,3,4,5]\n",
    "arr = np.array(lst)\n",
    "print(\"List size:\", sys.getsizeof(lst))   # bigger\n",
    "print(\"Array size:\", arr.nbytes)          # smaller\n",
    "  </pre>\n",
    "</div>\n"
   ]
  },
  {
   "cell_type": "code",
   "execution_count": 3,
   "id": "f110144b-8d69-4eae-a18c-2f27c9d8e202",
   "metadata": {},
   "outputs": [
    {
     "name": "stdout",
     "output_type": "stream",
     "text": [
      "List size: 104\n",
      "Array size: 40\n"
     ]
    }
   ],
   "source": [
    "import numpy as np, sys\n",
    "lst = [1,2,3,4,5]\n",
    "arr = np.array([lst])\n",
    "print(\"List size:\", sys.getsizeof(lst))\n",
    "print(\"Array size:\", arr.nbytes)"
   ]
  },
  {
   "cell_type": "markdown",
   "id": "93a7c694",
   "metadata": {},
   "source": [
    "<div style=\"font-family:'Segoe UI',sans-serif;background:#f9f9f9;border:2px solid #ddd;\n",
    "border-radius:10px;padding:12px;line-height:1.6;\">\n",
    "  <h2>📘 np.arange()</h2>\n",
    "  \n",
    "  <p><b>Definition:</b> <code>np.arange()</code> is a NumPy function that creates an array \n",
    "  with <b>evenly spaced values</b> within a given range.  \n",
    "  It works like Python’s built-in <code>range()</code>, but returns a NumPy array instead of a list.</p>\n",
    "  \n",
    "  <p><b>Syntax:</b></p>\n",
    "  <pre style=\"background:#f4f4f4;padding:8px;border-radius:5px;\">\n",
    "  numpy.arange([start, ] stop, [step], dtype=None)\n",
    "  </pre>\n",
    "  \n",
    "  <ul>\n",
    "    <li><b>start</b> → Starting value of the sequence (default = 0)</li>\n",
    "    <li><b>stop</b> → End value (not included)</li>\n",
    "    <li><b>step</b> → Difference between values (default = 1)</li>\n",
    "    <li><b>dtype</b> → Data type of output array (optional)</li>\n",
    "  </ul>\n",
    "  \n",
    "  <pre style=\"background:#ecf0f1;padding:10px;border-radius:5px;margin-top:10px;\">\n",
    "import numpy as np\n",
    "print(np.arange(0,10,2))   # [0 2 4 6 8]\n",
    "print(np.arange(5))        # [0 1 2 3 4]\n",
    "print(np.arange(2, 10))    # [2 3 4 5 6 7 8 9]\n",
    "  </pre>\n",
    "</div>\n"
   ]
  },
  {
   "cell_type": "code",
   "execution_count": 9,
   "id": "567220ba-42af-494c-8e83-ec1566f50341",
   "metadata": {},
   "outputs": [
    {
     "name": "stdout",
     "output_type": "stream",
     "text": [
      "[ 0  1  2  3  4  5  6  7  8  9 10 11 12 13 14 15 16 17 18 19]\n",
      "[0 1 2 3 4 5 6 7 8 9]\n",
      "[ 0  2  4  6  8 10]\n"
     ]
    }
   ],
   "source": [
    "print(np.arange(20))\n",
    "print(np.arange(0,10))\n",
    "print(np.arange(0,11,2))"
   ]
  },
  {
   "cell_type": "markdown",
   "id": "f566d9fa",
   "metadata": {},
   "source": [
    "<div style=\"font-family:'Segoe UI',sans-serif;background:#f9f9f9;border:2px solid #ddd;\n",
    "border-radius:10px;padding:12px;line-height:1.6;\">\n",
    "  <h2>📘 np.linspace()</h2>\n",
    "  \n",
    "  <p><b>Definition:</b> <code>np.linspace()</code> generates a NumPy array with \n",
    "  <b>evenly spaced numbers</b> between a start and stop value, divided into a specified number of points.</p>\n",
    "  \n",
    "  <p><b>Syntax:</b></p>\n",
    "  <pre style=\"background:#f4f4f4;padding:8px;border-radius:5px;\">\n",
    "  numpy.linspace(start, stop, num=50, endpoint=True, retstep=False, dtype=None)\n",
    "  </pre>\n",
    "  \n",
    "  <ul>\n",
    "    <li><b>start</b> → Starting value of the sequence</li>\n",
    "    <li><b>stop</b> → Ending value of the sequence</li>\n",
    "    <li><b>num</b> → Number of values to generate (default = 50)</li>\n",
    "    <li><b>endpoint</b> → If True, includes stop value (default = True)</li>\n",
    "    <li><b>retstep</b> → If True, also returns the step size</li>\n",
    "    <li><b>dtype</b> → Data type of the output array (optional)</li>\n",
    "  </ul>\n",
    "  \n",
    "  <pre style=\"background:#ecf0f1;padding:10px;border-radius:5px;margin-top:10px;\">\n",
    "import numpy as np\n",
    "print(np.linspace(0,1,5))         # [0.   0.25 0.5  0.75 1.  ]\n",
    "print(np.linspace(2,10,5))        # [ 2.  4.  6.  8. 10.]\n",
    "print(np.linspace(1,5,4,endpoint=False))  # [1. 2. 3. 4.]\n",
    "print(np.linspace(0,1,5,retstep=True))    # (array([...]), step=0.25)\n",
    "  </pre>\n",
    "</div>\n"
   ]
  },
  {
   "cell_type": "code",
   "execution_count": 14,
   "id": "6c4e9202-12c8-4e4a-be6a-ca622b8cf110",
   "metadata": {},
   "outputs": [
    {
     "name": "stdout",
     "output_type": "stream",
     "text": [
      "[0.   0.25 0.5  0.75 1.  ]\n",
      "(array([ 2.        ,  5.33333333,  8.66666667, 12.        ]), np.float64(3.3333333333333335))\n"
     ]
    }
   ],
   "source": [
    "print(np.linspace(0,1,5))\n",
    "print(np.linspace(2,12,4,retstep = True))"
   ]
  },
  {
   "cell_type": "markdown",
   "id": "b6015f8d",
   "metadata": {},
   "source": [
    "<div style=\"font-family:'Segoe UI',sans-serif;background:#f9f9f9;border:2px solid #ddd;\n",
    "border-radius:10px;padding:12px;line-height:1.6;\">\n",
    "  <h2>📘 np.random.randint()</h2>\n",
    "  \n",
    "  <p><b>Definition:</b> <code>np.random.randint()</code> generates \n",
    "  <b>random integers</b> within a specified range.  \n",
    "  The output can be a single integer or an array of integers.</p>\n",
    "  \n",
    "  <p><b>Syntax:</b></p>\n",
    "  <pre style=\"background:#f4f4f4;padding:8px;border-radius:5px;\">\n",
    "  numpy.random.randint(low, high=None, size=None, dtype=int)\n",
    "  </pre>\n",
    "  \n",
    "  <ul>\n",
    "    <li><b>low</b> → Lowest integer (inclusive)</li>\n",
    "    <li><b>high</b> → Upper bound (exclusive).  \n",
    "        If None, values are chosen from <code>[0, low)</code>.</li>\n",
    "    <li><b>size</b> → Shape of the output array (e.g., (2,3))</li>\n",
    "    <li><b>dtype</b> → Data type of output (default = int)</li>\n",
    "  </ul>\n",
    "  \n",
    "  <pre style=\"background:#ecf0f1;padding:10px;border-radius:5px;margin-top:10px;\">\n",
    "import numpy as np\n",
    "\n",
    "# Single random integer between 1 and 9\n",
    "print(np.random.randint(1, 10))\n",
    "\n",
    "# Array of random integers between 1 and 9 (2x3)\n",
    "print(np.random.randint(1, 10, size=(2,3)))\n",
    "\n",
    "# Random integers from 0 to 4\n",
    "print(np.random.randint(5, size=6))   # [e.g. 3 0 4 1 2 0]\n",
    "  </pre>\n",
    "</div>\n"
   ]
  },
  {
   "cell_type": "code",
   "execution_count": 2,
   "id": "2e417252-4fb2-40a2-8772-ee558632d3bb",
   "metadata": {},
   "outputs": [
    {
     "name": "stdout",
     "output_type": "stream",
     "text": [
      "1\n"
     ]
    }
   ],
   "source": [
    "import numpy as np\n",
    "print(np.random.randint(1,10))"
   ]
  },
  {
   "cell_type": "code",
   "execution_count": 3,
   "id": "55a4402d-b352-4ea5-90b0-76b98fd7a34b",
   "metadata": {},
   "outputs": [
    {
     "name": "stdout",
     "output_type": "stream",
     "text": [
      "[2 7 7 6 3]\n"
     ]
    }
   ],
   "source": [
    "print(np.random.randint(1,10,5))"
   ]
  },
  {
   "cell_type": "code",
   "execution_count": 4,
   "id": "a4ccb0fe-842a-4cf0-86a2-051697112855",
   "metadata": {},
   "outputs": [
    {
     "name": "stdout",
     "output_type": "stream",
     "text": [
      "[[2 1 6]\n",
      " [1 2 7]\n",
      " [6 6 1]]\n"
     ]
    }
   ],
   "source": [
    "# we can create array 2d or 3d by using this random numbers\n",
    "print(np.random.randint(1,10, size = (3,3)))"
   ]
  },
  {
   "cell_type": "code",
   "execution_count": 5,
   "id": "a505ba0d-58ae-421d-beab-5c105d270cc7",
   "metadata": {},
   "outputs": [
    {
     "name": "stdout",
     "output_type": "stream",
     "text": [
      "[[[3 1]\n",
      "  [4 1]\n",
      "  [4 7]]\n",
      "\n",
      " [[2 2]\n",
      "  [8 9]\n",
      "  [1 7]]]\n"
     ]
    }
   ],
   "source": [
    "print(np.random.randint(1,10, size = (2,3,2)))"
   ]
  },
  {
   "cell_type": "markdown",
   "id": "3f73a397",
   "metadata": {},
   "source": [
    "<div style=\"font-family:'Segoe UI',sans-serif;background:#f9f9f9;border:2px solid #ddd;\n",
    "border-radius:10px;padding:12px;line-height:1.6;\">\n",
    "  <h2>📘 np.random.rand()</h2>\n",
    "  \n",
    "  <p><b>Definition:</b> <code>np.random.rand()</code> generates \n",
    "  <b>random floating-point numbers</b> between 0 and 1.  \n",
    "  The output can be a single float or an array of floats with the specified shape.</p>\n",
    "  \n",
    "  <p><b>Syntax:</b></p>\n",
    "  <pre style=\"background:#f4f4f4;padding:8px;border-radius:5px;\">\n",
    "  numpy.random.rand(d0, d1, ..., dn)\n",
    "  </pre>\n",
    "  \n",
    "  <ul>\n",
    "    <li><b>d0, d1, ..., dn</b> → Dimensions of the output array</li>\n",
    "    <li>Generates numbers in the range <b>[0, 1)</b></li>\n",
    "    <li>Returns a float if no dimensions are specified</li>\n",
    "  </ul>\n",
    "  \n",
    "  <pre style=\"background:#ecf0f1;padding:10px;border-radius:5px;margin-top:10px;\">\n",
    "import numpy as np\n",
    "\n",
    "# Single random float between 0 and 1\n",
    "print(np.random.rand())\n",
    "\n",
    "# Array of random floats (2x3)\n",
    "print(np.random.rand(2,3))\n",
    "\n",
    "# 1D array of 5 random floats\n",
    "print(np.random.rand(5))\n",
    "  </pre>\n",
    "</div>\n"
   ]
  },
  {
   "cell_type": "code",
   "execution_count": 26,
   "id": "704c0d5e-61c6-41af-be54-c51f595b288d",
   "metadata": {},
   "outputs": [
    {
     "name": "stdout",
     "output_type": "stream",
     "text": [
      "0.5233054890975097\n"
     ]
    }
   ],
   "source": [
    "print(np.random.rand())"
   ]
  },
  {
   "cell_type": "code",
   "execution_count": 27,
   "id": "12b3e1fe-96ff-4c5c-b49a-72f24c468651",
   "metadata": {},
   "outputs": [
    {
     "name": "stdout",
     "output_type": "stream",
     "text": [
      "[[0.13003418 0.72521971 0.10011724 0.43061891 0.03091569]]\n"
     ]
    }
   ],
   "source": [
    "print(np.random.rand(1,5))"
   ]
  },
  {
   "cell_type": "code",
   "execution_count": 31,
   "id": "84bc6a98-01b2-4a17-8f3c-5a1cffcaa868",
   "metadata": {},
   "outputs": [
    {
     "name": "stdout",
     "output_type": "stream",
     "text": [
      "[[0.05509023 0.02823945 0.40311786]\n",
      " [0.27693947 0.61057445 0.01529583]]\n"
     ]
    }
   ],
   "source": [
    "print(np.random.rand(2,3))"
   ]
  },
  {
   "cell_type": "markdown",
   "id": "24d00139",
   "metadata": {},
   "source": [
    "<div style=\"font-family:'Segoe UI',sans-serif;background:#f9f9f9;border:2px solid #ddd;\n",
    "border-radius:10px;padding:12px;line-height:1.6;\">\n",
    "  <h2>📘 np.reshape()</h2>\n",
    "  \n",
    "  <p><b>Definition:</b> <code>np.reshape()</code> changes the <b>shape of an array</b> \n",
    "  without modifying its data. It rearranges elements into the specified dimensions.</p>\n",
    "  \n",
    "  <p><b>Syntax:</b></p>\n",
    "  <pre style=\"background:#f4f4f4;padding:8px;border-radius:5px;\">\n",
    "  numpy.reshape(a, newshape, order='C')\n",
    "  </pre>\n",
    "  \n",
    "  <ul>\n",
    "    <li><b>a</b> → Input array</li>\n",
    "    <li><b>newshape</b> → Tuple specifying new dimensions (e.g., (2,3))</li>\n",
    "    <li><b>order</b> → 'C' (row-major, default) or 'F' (column-major)</li>\n",
    "    <li>Total number of elements must remain the same</li>\n",
    "  </ul>\n",
    "  \n",
    "  <pre style=\"background:#ecf0f1;padding:10px;border-radius:5px;margin-top:10px;\">\n",
    "import numpy as np\n",
    "\n",
    "# 1D array reshaped to 2x3\n",
    "arr = np.arange(1,7)\n",
    "print(arr.reshape(2,3))\n",
    "# Output:\n",
    "# [[1 2 3]\n",
    "#  [4 5 6]]\n",
    "\n",
    "# 1D array reshaped to 3x2\n",
    "print(arr.reshape(3,2))\n",
    "# Output:\n",
    "# [[1 2]\n",
    "#  [3 4]\n",
    "#  [5 6]]\n",
    "  </pre>\n",
    "</div>\n"
   ]
  },
  {
   "cell_type": "code",
   "execution_count": 33,
   "id": "628abce4-6957-46c2-a9d9-3dcdbb9fa615",
   "metadata": {},
   "outputs": [
    {
     "name": "stdout",
     "output_type": "stream",
     "text": [
      "[[1 2 3]\n",
      " [4 5 6]]\n"
     ]
    }
   ],
   "source": [
    "arr = np.arange(1,7)\n",
    "print(arr.reshape(2,3))"
   ]
  },
  {
   "cell_type": "code",
   "execution_count": 34,
   "id": "282d8ac5-dec6-4404-977f-4ff60e26eed4",
   "metadata": {},
   "outputs": [],
   "source": [
    "# for 3d array"
   ]
  },
  {
   "cell_type": "markdown",
   "id": "b7a49884",
   "metadata": {},
   "source": [
    "<div style=\"font-family:'Segoe UI',sans-serif;background:#f9f9f9;border:2px solid #ddd;\n",
    "border-radius:10px;padding:12px;line-height:1.6;\">\n",
    "  <h2>📘 np.eye()</h2>\n",
    "  \n",
    "  <p><b>Definition:</b> <code>np.eye()</code> creates a <b>2D identity matrix</b>, \n",
    "  where all elements on the main diagonal are 1, and all other elements are 0.</p>\n",
    "  \n",
    "  <p><b>Syntax:</b></p>\n",
    "  <pre style=\"background:#f4f4f4;padding:8px;border-radius:5px;\">\n",
    "  numpy.eye(N, M=None, k=0, dtype=float, order='C')\n",
    "  </pre>\n",
    "  \n",
    "  <ul>\n",
    "    <li><b>N</b> → Number of rows</li>\n",
    "    <li><b>M</b> → Number of columns (default = N)</li>\n",
    "    <li><b>k</b> → Diagonal offset (0 = main diagonal, positive = above, negative = below)</li>\n",
    "    <li><b>dtype</b> → Data type of output array</li>\n",
    "    <li><b>order</b> → 'C' (row-major) or 'F' (column-major)</li>\n",
    "  </ul>\n",
    "  \n",
    "  <pre style=\"background:#ecf0f1;padding:10px;border-radius:5px;margin-top:10px;\">\n",
    "import numpy as np\n",
    "\n",
    "# 3x3 identity matrix\n",
    "print(np.eye(3))\n",
    "# Output:\n",
    "# [[1. 0. 0.]\n",
    "#  [0. 1. 0.]\n",
    "#  [0. 0. 1.]]\n",
    "\n",
    "# 3x4 identity matrix\n",
    "print(np.eye(3,4))\n",
    "# Output:\n",
    "# [[1. 0. 0. 0.]\n",
    "#  [0. 1. 0. 0.]\n",
    "#  [0. 0. 1. 0.]]\n",
    "\n",
    "# Diagonal above main diagonal\n",
    "print(np.eye(3, k=1))\n",
    "# Output:\n",
    "# [[0. 1. 0.]\n",
    "#  [0. 0. 1.]\n",
    "#  [0. 0. 0.]]\n",
    "  </pre>\n",
    "</div>\n"
   ]
  },
  {
   "cell_type": "code",
   "execution_count": 35,
   "id": "a52305f3-3dfc-4323-92a0-fbdd44bd1fe8",
   "metadata": {},
   "outputs": [
    {
     "name": "stdout",
     "output_type": "stream",
     "text": [
      "[[1. 0. 0.]\n",
      " [0. 1. 0.]\n",
      " [0. 0. 1.]]\n"
     ]
    }
   ],
   "source": [
    "print(np.eye(3))"
   ]
  },
  {
   "cell_type": "code",
   "execution_count": 37,
   "id": "98c990ce-04b9-4873-b641-cda65cbab7c8",
   "metadata": {},
   "outputs": [
    {
     "name": "stdout",
     "output_type": "stream",
     "text": [
      "[[1. 0. 0. 0.]\n",
      " [0. 1. 0. 0.]\n",
      " [0. 0. 1. 0.]]\n"
     ]
    }
   ],
   "source": [
    "print(np.eye(3,4))"
   ]
  },
  {
   "cell_type": "code",
   "execution_count": 41,
   "id": "4f69efea-5396-4871-bac3-678c96fbff45",
   "metadata": {},
   "outputs": [
    {
     "name": "stdout",
     "output_type": "stream",
     "text": [
      "[[0. 1. 0.]\n",
      " [0. 0. 1.]\n",
      " [0. 0. 0.]]\n"
     ]
    }
   ],
   "source": [
    "print(np.eye(3, k=1))"
   ]
  },
  {
   "cell_type": "markdown",
   "id": "94033853",
   "metadata": {},
   "source": [
    "<div style=\"font-family:'Segoe UI',sans-serif;background:#f9f9f9;border:2px solid #ddd;\n",
    "border-radius:10px;padding:12px;line-height:1.6;\">\n",
    "  <h2>📘 shape</h2>\n",
    "  \n",
    "  <p><b>Definition:</b> The <code>shape</code> attribute of a NumPy array \n",
    "  returns its <b>dimensions</b> as a tuple, indicating the number of rows, columns, \n",
    "  and other axes (if any).</p>\n",
    "  \n",
    "  <p><b>Syntax:</b></p>\n",
    "  <pre style=\"background:#f4f4f4;padding:8px;border-radius:5px;\">\n",
    "  array.shape\n",
    "  </pre>\n",
    "  \n",
    "  <ul>\n",
    "    <li>Returns a <b>tuple</b> representing the size of each dimension.</li>\n",
    "    <li>For 1D array → (number_of_elements,)</li>\n",
    "    <li>For 2D array → (rows, columns)</li>\n",
    "    <li>For n-dimensional array → tuple of n sizes</li>\n",
    "  </ul>\n",
    "  \n",
    "  <pre style=\"background:#ecf0f1;padding:10px;border-radius:5px;margin-top:10px;\">\n",
    "import numpy as np\n",
    "\n",
    "# 2D array\n",
    "arr = np.array([[1,2,3],[4,5,6]])\n",
    "print(arr.shape)   # Output: (2, 3)\n",
    "\n",
    "# 1D array\n",
    "arr1 = np.array([1,2,3,4])\n",
    "print(arr1.shape)  # Output: (4,)\n",
    "\n",
    "# 3D array\n",
    "arr3 = np.zeros((2,3,4))\n",
    "print(arr3.shape)  # Output: (2, 3, 4)\n",
    "  </pre>\n",
    "</div>\n"
   ]
  },
  {
   "cell_type": "code",
   "execution_count": 54,
   "id": "1570ad2b-6f9d-4d10-bae5-182aaa1cff96",
   "metadata": {},
   "outputs": [
    {
     "name": "stdout",
     "output_type": "stream",
     "text": [
      "[1 2 3 4]\n",
      "(4,)\n"
     ]
    }
   ],
   "source": [
    "arr1 = np.array([1,2,3,4])\n",
    "print(arr1)\n",
    "print(arr1.shape)"
   ]
  },
  {
   "cell_type": "code",
   "execution_count": 53,
   "id": "a2996d16-5141-4945-a8b6-1d3b4fe0d9e0",
   "metadata": {},
   "outputs": [
    {
     "name": "stdout",
     "output_type": "stream",
     "text": [
      "[[1 2 3]\n",
      " [4 5 6]]\n",
      "(2, 3)\n"
     ]
    }
   ],
   "source": [
    "arr2 = np.array([[1,2,3],[4,5,6]])\n",
    "print(arr2)\n",
    "print(arr2.shape)"
   ]
  },
  {
   "cell_type": "code",
   "execution_count": 52,
   "id": "5f5cb510-5fc9-4f7e-ada6-9f8d3e552561",
   "metadata": {},
   "outputs": [
    {
     "name": "stdout",
     "output_type": "stream",
     "text": [
      "[[[5 1 4]\n",
      "  [2 1 9]\n",
      "  [8 6 1]]\n",
      "\n",
      " [[1 5 6]\n",
      "  [5 5 7]\n",
      "  [7 6 4]]]\n",
      "(2, 3, 3)\n"
     ]
    }
   ],
   "source": [
    "arr3 = np.random.randint(1,10, size = (2,3,3))\n",
    "print(arr3)\n",
    "print(arr3.shape)"
   ]
  },
  {
   "cell_type": "markdown",
   "id": "a378ed31",
   "metadata": {},
   "source": [
    "<div style=\"font-family:'Segoe UI',sans-serif;background:#f9f9f9;border:2px solid #ddd;\n",
    "border-radius:10px;padding:12px;line-height:1.6;\">\n",
    "  <h2>📘 np.ones()</h2>\n",
    "  \n",
    "  <p><b>Definition:</b> <code>np.ones()</code> creates a NumPy array of a specified shape, \n",
    "  filled with <b>ones</b>. Can be used for 1D, 2D, 3D, or n-dimensional arrays.</p>\n",
    "  \n",
    "  <p><b>Syntax:</b></p>\n",
    "  <pre style=\"background:#f4f4f4;padding:8px;border-radius:5px;\">\n",
    "numpy.ones(shape, dtype=float, order='C')\n",
    "  </pre>\n",
    "  \n",
    "  <ul>\n",
    "    <li><b>shape</b> → Tuple specifying the array dimensions (e.g., (2,3))</li>\n",
    "    <li><b>dtype</b> → Data type of the array (default = float)</li>\n",
    "    <li><b>order</b> → 'C' (row-major) or 'F' (column-major)</li>\n",
    "  </ul>\n",
    "  \n",
    "  <h4>💻 Example Code</h4>\n",
    "</div>\n"
   ]
  },
  {
   "cell_type": "code",
   "execution_count": 55,
   "id": "79d7cf0b-ca30-4dff-8e9e-e596698f9ba3",
   "metadata": {},
   "outputs": [
    {
     "name": "stdout",
     "output_type": "stream",
     "text": [
      "[1. 1. 1.]\n"
     ]
    }
   ],
   "source": [
    "# 1D array of ones\n",
    "\n",
    "print(np.ones(3))"
   ]
  },
  {
   "cell_type": "code",
   "execution_count": 57,
   "id": "fc11031c-ed7d-4517-90b2-d4ada98d6f09",
   "metadata": {},
   "outputs": [
    {
     "name": "stdout",
     "output_type": "stream",
     "text": [
      "[[1. 1. 1.]\n",
      " [1. 1. 1.]\n",
      " [1. 1. 1.]]\n"
     ]
    }
   ],
   "source": [
    "# 2D array of ones\n",
    "\n",
    "print(np.ones((3,3)))"
   ]
  },
  {
   "cell_type": "code",
   "execution_count": 58,
   "id": "0ec46754-de50-4bba-be77-b52b5d11840e",
   "metadata": {},
   "outputs": [
    {
     "name": "stdout",
     "output_type": "stream",
     "text": [
      "[[[1. 1. 1.]\n",
      "  [1. 1. 1.]\n",
      "  [1. 1. 1.]]\n",
      "\n",
      " [[1. 1. 1.]\n",
      "  [1. 1. 1.]\n",
      "  [1. 1. 1.]]\n",
      "\n",
      " [[1. 1. 1.]\n",
      "  [1. 1. 1.]\n",
      "  [1. 1. 1.]]]\n"
     ]
    }
   ],
   "source": [
    "# 3D array of ones\n",
    "\n",
    "print(np.ones((3,3,3)))"
   ]
  },
  {
   "cell_type": "markdown",
   "id": "6e541c9b",
   "metadata": {},
   "source": [
    "<div style=\"font-family:'Segoe UI',sans-serif;background:#f9f9f9;border:2px solid #ddd;\n",
    "border-radius:10px;padding:12px;line-height:1.6;\">\n",
    "  <h2>📘 np.zeros()</h2>\n",
    "  \n",
    "  <p><b>Definition:</b> <code>np.zeros()</code> creates a NumPy array of a specified shape, \n",
    "  filled with <b>zeros</b>. Can be used for 1D, 2D, 3D, or n-dimensional arrays.</p>\n",
    "  \n",
    "  <p><b>Syntax:</b></p>\n",
    "  <pre style=\"background:#f4f4f4;padding:8px;border-radius:5px;\">\n",
    "numpy.zeros(shape, dtype=float, order='C')\n",
    "  </pre>\n",
    "  \n",
    "  <ul>\n",
    "    <li><b>shape</b> → Tuple specifying the array dimensions (e.g., (3,2))</li>\n",
    "    <li><b>dtype</b> → Data type of the array (default = float)</li>\n",
    "    <li><b>order</b> → 'C' (row-major) or 'F' (column-major)</li>\n",
    "  </ul>\n",
    "  \n",
    "  <h4>💻 Example Code</h4>\n",
    "</div>\n"
   ]
  },
  {
   "cell_type": "code",
   "execution_count": 59,
   "id": "42a696ef-6c76-4387-b5e0-bb199a6c8fd7",
   "metadata": {},
   "outputs": [
    {
     "name": "stdout",
     "output_type": "stream",
     "text": [
      "[0. 0.]\n"
     ]
    }
   ],
   "source": [
    "print(np.zeros(2))"
   ]
  },
  {
   "cell_type": "code",
   "execution_count": 60,
   "id": "2e4847ec-5666-442b-8810-bd588a97801e",
   "metadata": {},
   "outputs": [
    {
     "name": "stdout",
     "output_type": "stream",
     "text": [
      "[[0. 0. 0.]\n",
      " [0. 0. 0.]]\n"
     ]
    }
   ],
   "source": [
    "print(np.zeros((2,3)))"
   ]
  },
  {
   "cell_type": "code",
   "execution_count": 61,
   "id": "575ee789-cbaa-4449-8796-685efb62ad07",
   "metadata": {},
   "outputs": [
    {
     "name": "stdout",
     "output_type": "stream",
     "text": [
      "[[[0. 0. 0.]\n",
      "  [0. 0. 0.]\n",
      "  [0. 0. 0.]]\n",
      "\n",
      " [[0. 0. 0.]\n",
      "  [0. 0. 0.]\n",
      "  [0. 0. 0.]]]\n"
     ]
    }
   ],
   "source": [
    "print(np.zeros((2,3,3)))"
   ]
  },
  {
   "cell_type": "markdown",
   "id": "643e1989",
   "metadata": {},
   "source": [
    "<div style=\"font-family:'Segoe UI',sans-serif;background:#f9f9f9;border:2px solid #ddd;\n",
    "border-radius:10px;padding:12px;line-height:1.6;\">\n",
    "  <h2>📘 ndim</h2>\n",
    "  \n",
    "  <p><b>Definition:</b> The <code>ndim</code> attribute of a NumPy array returns the <b>number of dimensions</b> (axes) of the array.</p>\n",
    "  \n",
    "  <h4>🔑 Important Points</h4>\n",
    "  <ul>\n",
    "    <li>1D array → ndim = 1</li>\n",
    "    <li>2D array → ndim = 2 (rows × columns)</li>\n",
    "    <li>3D array → ndim = 3 (depth × rows × columns)</li>\n",
    "    <li>ndim is useful to check the structure of an array before performing operations</li>\n",
    "  </ul>\n",
    "  \n",
    "  <h4>💻 Example Code</h4>\n",
    "</div>\n"
   ]
  },
  {
   "cell_type": "code",
   "execution_count": 62,
   "id": "9ce37621-84ab-4e0d-82a7-8f6e22fc38e3",
   "metadata": {},
   "outputs": [
    {
     "name": "stdout",
     "output_type": "stream",
     "text": [
      "2\n"
     ]
    }
   ],
   "source": [
    "arr = np.array([[1,2,3,4],[56,78,87,65]])\n",
    "print(arr.ndim)"
   ]
  },
  {
   "cell_type": "markdown",
   "id": "45c137ae",
   "metadata": {},
   "source": [
    "<div style=\"font-family:'Segoe UI',sans-serif;background:#f9f9f9;border:2px solid #ddd;\n",
    "border-radius:10px;padding:12px;line-height:1.6;\">\n",
    "  <h2>📘 dtype</h2>\n",
    "  \n",
    "  <p><b>Definition:</b> The <code>dtype</code> attribute of a NumPy array shows the <b>data type of its elements</b>, e.g., integer, float, or complex.</p>\n",
    "  \n",
    "  <h4>🔑 Important Points</h4>\n",
    "  <ul>\n",
    "    <li>All elements in a NumPy array must be of the same type (homogeneous)</li>\n",
    "    <li>Common dtypes: <code>int32, int64, float32, float64, complex64</code></li>\n",
    "    <li>You can specify dtype while creating an array using <code>dtype</code> parameter</li>\n",
    "    <li>Helps in memory optimization and performance improvement</li>\n",
    "  </ul>\n",
    "  \n",
    "  <h4>💻 Example Code</h4>\n",
    "</div>\n"
   ]
  },
  {
   "cell_type": "code",
   "execution_count": 63,
   "id": "2a6066f8-da2b-4249-b4a4-28af17bc616e",
   "metadata": {},
   "outputs": [
    {
     "name": "stdout",
     "output_type": "stream",
     "text": [
      "int64\n"
     ]
    }
   ],
   "source": [
    "arr = np.array([[1,2,3,4],[56,78,87,65]])\n",
    "print(arr.dtype)"
   ]
  },
  {
   "cell_type": "markdown",
   "id": "a1082966",
   "metadata": {},
   "source": [
    "<div style=\"font-family:'Segoe UI',sans-serif;background:#f9f9f9;border:2px solid #ddd;\n",
    "border-radius:10px;padding:12px;line-height:1.6;\">\n",
    "  <h2>📘 Indexing</h2>\n",
    "  \n",
    "  <p><b>Definition:</b> Indexing in NumPy is used to <b>access elements</b> of an array \n",
    "  using their <b>positions</b> in different dimensions.</p>\n",
    "  \n",
    "  <h4>🔑 Important Points</h4>\n",
    "  <ul>\n",
    "    <li>1D array → <code>arr[index]</code></li>\n",
    "    <li>2D array → <code>arr[row, col]</code></li>\n",
    "    <li>3D array → <code>arr[depth, row, col]</code></li>\n",
    "    <li>Negative indices access elements from the end, e.g., <code>arr[-1]</code> → last element</li>\n",
    "    <li>Slicing can be used with indexing: <code>arr[start:stop:step]</code></li>\n",
    "    <li>Indexing returns a view, not a copy, unless explicitly copied</li>\n",
    "  </ul>\n",
    "  \n",
    "  <h4>💻 Examples</h4>\n",
    "  <pre style=\"background:#ecf0f1;padding:10px;border-radius:5px;\">\n",
    "import numpy as np\n",
    "\n",
    "# 1D array\n",
    "arr1 = np.array([10,20,30,40])\n",
    "print(arr1[2])     # Output: 30\n",
    "print(arr1[-1])    # Output: 40\n",
    "\n",
    "# 2D array\n",
    "arr2 = np.array([[1,2,3],[4,5,6]])\n",
    "print(arr2[0,1])   # Output: 2\n",
    "print(arr2[-1,-1]) # Output: 6\n",
    "\n",
    "# 3D array\n",
    "arr3 = np.array([[[1,2,3],[4,5,6]], [[7,8,9],[10,11,12]]])\n",
    "print(arr3[1,0,2]) # Output: 9\n",
    "print(arr3[0,1,1]) # Output: 5\n",
    "  </pre>\n",
    "  \n",
    "  <h4>📊 Visual Diagram</h4>\n",
    "  <p><b>1D Array:</b> <code>[10, 20, 30, 40]</code> → indices 0,1,2,3</p>\n",
    "\n",
    "  <p><b>2D Array:</b></p>\n",
    "  <pre style=\"background:#f4f4f4;padding:8px;border-radius:5px;\">\n",
    "  [[1, 2, 3],    # row 0\n",
    "   [4, 5, 6]]    # row 1\n",
    "\n",
    "  Access: arr2[0,2] → 3\n",
    "          arr2[1,0] → 4\n",
    "  </pre>\n",
    "\n",
    "  <p><b>3D Array (2x2x3 example):</b></p>\n",
    "  <pre style=\"background:#f4f4f4;padding:8px;border-radius:5px;\">\n",
    "  [[[1,2,3],     # depth 0, row 0\n",
    "    [4,5,6]],    # depth 0, row 1\n",
    "\n",
    "   [[7,8,9],     # depth 1, row 0\n",
    "    [10,11,12]]] # depth 1, row 1\n",
    "\n",
    "  Access: arr3[1,0,2] → 9\n",
    "          arr3[0,1,1] → 5\n",
    "  </pre>\n",
    "</div>\n"
   ]
  },
  {
   "cell_type": "markdown",
   "id": "02fd08c3",
   "metadata": {},
   "source": [
    "<div style=\"font-family:'Segoe UI',sans-serif;background:#f9f9f9;border:2px solid #ddd;\n",
    "border-radius:10px;padding:12px;line-height:1.6;\">\n",
    "  <h2>📘 Slicing</h2>\n",
    "  \n",
    "  <p><b>Definition:</b> Slicing in NumPy is used to <b>extract a portion of an array</b> \n",
    "  using <code>[start:end:step]</code> notation. It works for 1D, 2D, and n-dimensional arrays.</p>\n",
    "  \n",
    "  <h4>🔑 Important Points</h4>\n",
    "  <ul>\n",
    "    <li>1D array → <code>arr[start:end:step]</code></li>\n",
    "    <li>2D array → <code>arr[row_start:row_end, col_start:col_end]</code></li>\n",
    "    <li>3D array → <code>arr[depth_start:depth_end, row_start:row_end, col_start:col_end]</code></li>\n",
    "    <li>Negative indices can be used to slice from the end</li>\n",
    "    <li>Omitting start → defaults to 0, omitting end → defaults to array length along that axis</li>\n",
    "    <li>Omitting step → defaults to 1</li>\n",
    "    <li>Slicing returns a <b>view</b>, not a copy</li>\n",
    "  </ul>\n",
    "  \n",
    "  <h4>💻 Examples</h4>\n",
    "  <pre style=\"background:#ecf0f1;padding:10px;border-radius:5px;\">\n",
    "import numpy as np\n",
    "\n",
    "# 1D array\n",
    "arr1 = np.array([10,20,30,40,50])\n",
    "print(arr1[1:4])      # Output: [20 30 40]\n",
    "print(arr1[::2])      # Output: [10 30 50]\n",
    "\n",
    "# 2D array\n",
    "arr2 = np.array([[1,2,3],[4,5,6],[7,8,9]])\n",
    "print(arr2[0:2, 1:3]) # Output: [[2 3],[5 6]]\n",
    "print(arr2[:, ::2])   # Output: [[1 3],[4 6],[7 9]]\n",
    "\n",
    "# 3D array\n",
    "arr3 = np.arange(27).reshape(3,3,3)\n",
    "print(arr3[0:2, :, 1:3])\n",
    "# Output: \n",
    "[[[1 2]\n",
    "  [4 5]\n",
    "  [7 8]]\n",
    "  \n",
    " [[10 11]\n",
    "   [13 14]\n",
    " [16 17]]]\n",
    "  </pre>\n",
    "  \n",
    "  <h4>📊 Visual Diagram</h4>\n",
    "  <p><b>1D Array:</b> arr1 = [10, 20, 30, 40, 50]</p>\n",
    "  <p>Slicing arr1[1:4] → [20, 30, 40]</p>\n",
    "\n",
    "  <p><b>2D Array:</b> arr2 =</p>\n",
    "  <pre style=\"background:#f4f4f4;padding:8px;border-radius:5px;\">\n",
    "  [[1 2 3],    # row 0\n",
    "   [4 5 6],    # row 1\n",
    "   [7 8 9]]    # row 2\n",
    "\n",
    "  arr2[0:2,1:3] → [[2 3]\n",
    "                    [5 6]]\n",
    "  </pre>\n",
    "\n",
    "  <p><b>3D Array (3x3x3 example):</b></p>\n",
    "  <pre style=\"background:#f4f4f4;padding:8px;border-radius:5px;\">\n",
    "  [[[ 0  1  2]\n",
    "    [ 3  4  5]\n",
    "    [ 6  7  8]],    # depth 0\n",
    "   [[ 9 10 11]\n",
    "    [12 13 14]\n",
    "    [15 16 17]],    # depth 1\n",
    "   [[18 19 20]\n",
    "    [21 22 23]\n",
    "    [24 25 26]]]    # depth 2\n",
    "\n",
    "  arr3[0:2, :, 1:3] → slices depth 0 & 1, all rows, columns 1 & 2\n",
    "  </pre>\n",
    "</div>\n"
   ]
  },
  {
   "cell_type": "markdown",
   "id": "8972f763-09a2-402c-8abd-948423927f26",
   "metadata": {},
   "source": [
    "<div style=\"font-family:'Segoe UI',sans-serif;background:#f9f9f9;border:2px solid #ddd;\n",
    "border-radius:10px;padding:12px;line-height:1.6;\">\n",
    "  <h2>📘 Sorting in NumPy</h2>\n",
    "  \n",
    "  <p><b>Definition:</b> NumPy provides <code>np.sort()</code> and <code>ndarray.sort()</code> \n",
    "  to arrange elements of an array in <b>ascending or descending order</b>. \n",
    "  Sorting works on <b>1D, 2D, and multi-dimensional arrays</b>.</p>\n",
    "  \n",
    "  <p><b>Syntax:</b></p>\n",
    "  <pre style=\"background:#f4f4f4;padding:8px;border-radius:5px;\">\n",
    "  numpy.sort(a, axis=-1, kind='quicksort', order=None)\n",
    "  </pre>\n",
    "  \n",
    "  <ul>\n",
    "    <li><b>a</b> → Input array to be sorted</li>\n",
    "    <li><b>axis</b> → Axis along which to sort (default = -1 → last axis)</li>\n",
    "    <li><b>kind</b> → Sorting algorithm (‘quicksort’, ‘mergesort’, ‘heapsort’, ‘stable’)</li>\n",
    "    <li><b>order</b> → Sort by field name (for structured arrays)</li>\n",
    "    <li><code>np.sort()</code> returns a sorted copy, while <code>arr.sort()</code> sorts in-place</li>\n",
    "  </ul>\n",
    "  \n",
    "  <pre style=\"background:#ecf0f1;padding:10px;border-radius:5px;margin-top:10px;\">\n",
    "import numpy as np\n",
    "\n",
    "# 1D Array Sorting\n",
    "arr = np.array([3, 1, 4, 1, 5, 9])\n",
    "print(np.sort(arr))\n",
    "# Output: [1 1 3 4 5 9]\n",
    "\n",
    "# 2D Array Sorting (row-wise)\n",
    "arr2 = np.array([[3, 2, 1], [6, 5, 4]])\n",
    "print(np.sort(arr2, axis=1))\n",
    "# Output:\n",
    "# [[1 2 3]\n",
    "#  [4 5 6]]\n",
    "\n",
    "# Column-wise Sorting\n",
    "print(np.sort(arr2, axis=0))\n",
    "# Output:\n",
    "# [[3 2 1]\n",
    "#  [6 5 4]]\n",
    "\n",
    "# In-place Sorting\n",
    "arr.sort()\n",
    "print(arr)\n",
    "# Output: [1 1 3 4 5 9]\n",
    "  </pre>\n",
    "</div>\n"
   ]
  },
  {
   "cell_type": "markdown",
   "id": "765d1cf1-bdec-4fec-b8f1-9f7874e92486",
   "metadata": {},
   "source": [
    "<div style=\"font-family:'Segoe UI',sans-serif;background:#f9f9f9;border:2px solid #ddd;\n",
    "border-radius:10px;padding:12px;line-height:1.6;\">\n",
    "  <h2>📘 np.sqrt()</h2>\n",
    "  \n",
    "  <p><b>Definition:</b> <code>np.sqrt()</code> computes the <b>square root</b> of each element \n",
    "  in an array (element-wise operation).</p>\n",
    "  \n",
    "  <p><b>Syntax:</b></p>\n",
    "  <pre style=\"background:#f4f4f4;padding:8px;border-radius:5px;\">\n",
    "  np.sqrt(x)\n",
    "  </pre>\n",
    "  \n",
    "  <h4>🔑 Explanation of Syntax</h4>\n",
    "  <ul>\n",
    "    <li><b>x</b> → The input value. Can be:\n",
    "      <ul>\n",
    "        <li>a single number (scalar)</li>\n",
    "        <li>a Python list or tuple</li>\n",
    "        <li>a NumPy array (1D, 2D, or higher dimensions)</li>\n",
    "      </ul>\n",
    "    </li>\n",
    "    <li>The function returns an array of the same shape as <code>x</code> with the square roots of each element.</li>\n",
    "    <li>If <code>x</code> contains negative numbers, the output will be <code>nan</code> unless using <code>np.emath.sqrt()</code> for complex numbers.</li>\n",
    "  </ul>\n",
    "  \n",
    "  <h4>💻 Examples</h4>\n",
    "  \n",
    "  <pre style=\"background:#ecf0f1;padding:10px;border-radius:5px;margin-top:10px;\">\n",
    "import numpy as np\n",
    "\n",
    "# Single number\n",
    "print(np.sqrt(16))\n",
    "# Output: 4.0\n",
    "\n",
    "# 1D array\n",
    "arr = np.array([1, 4, 9, 16])\n",
    "print(np.sqrt(arr))\n",
    "# Output: [1. 2. 3. 4.]\n",
    "\n",
    "# 2D array\n",
    "arr2 = np.array([[1, 25], [36, 49]])\n",
    "print(np.sqrt(arr2))\n",
    "# Output:\n",
    "# [[1. 5.]\n",
    "#  [6. 7.]]\n",
    "\n",
    "# Negative number\n",
    "print(np.sqrt([-1, 9]))\n",
    "# Output: [nan  3.]\n",
    "  </pre>\n",
    "</div>\n"
   ]
  },
  {
   "cell_type": "markdown",
   "id": "e9b454fb-bee3-4b20-bbe1-576caa31092d",
   "metadata": {},
   "source": [
    "<div style=\"font-family:'Segoe UI',sans-serif;background:#f9f9f9;border:2px solid #ddd;\n",
    "border-radius:10px;padding:12px;line-height:1.6;\">\n",
    "  <h2>📘 np.mean()</h2>\n",
    "  \n",
    "  <p><b>Definition:</b> <code>np.mean()</code> calculates the <b>average (arithmetic mean)</b> \n",
    "  of the elements in an array along a specified axis.</p>\n",
    "  \n",
    "  <p><b>Syntax:</b></p>\n",
    "  <pre style=\"background:#f4f4f4;padding:8px;border-radius:5px;\">\n",
    "  np.mean(a, axis=None, dtype=None, out=None, keepdims=False)\n",
    "  </pre>\n",
    "  \n",
    "  <h4>🔑 Explanation of Syntax</h4>\n",
    "  <ul>\n",
    "    <li><b>a</b> → Input array (1D, 2D, or higher-dimensional).</li>\n",
    "    <li><b>axis</b> → Axis along which the mean is computed:\n",
    "      <ul>\n",
    "        <li>None → compute mean of all elements (default)</li>\n",
    "        <li>0 → compute mean column-wise</li>\n",
    "        <li>1 → compute mean row-wise</li>\n",
    "      </ul>\n",
    "    </li>\n",
    "    <li><b>dtype</b> → Data type for computation (optional, default = float).</li>\n",
    "    <li><b>out</b> → Array to store the result (optional).</li>\n",
    "    <li><b>keepdims</b> → If True, keeps the reduced dimensions for broadcasting.</li>\n",
    "  </ul>\n",
    "  \n",
    "  <h4>🔑 Important Points to Keep in Mind</h4>\n",
    "  <ul>\n",
    "    <li>Always returns a floating-point value even if input is integer.</li>\n",
    "    <li>Can compute mean along any axis of a multidimensional array.</li>\n",
    "    <li>NaN values can be ignored using <code>np.nanmean()</code>.</li>\n",
    "    <li>Useful in data science for statistical analysis, normalization, and feature engineering.</li>\n",
    "  </ul>\n",
    "  \n",
    "  <h4>💻 Examples</h4>\n",
    "  \n",
    "  <pre style=\"background:#ecf0f1;padding:10px;border-radius:5px;margin-top:10px;\">\n",
    "import numpy as np\n",
    "\n",
    "# 1D Array\n",
    "arr = np.array([1, 2, 3, 4, 5])\n",
    "print(np.mean(arr))\n",
    "# Output: 3.0\n",
    "\n",
    "# 2D Array - Overall mean\n",
    "arr2 = np.array([[1, 2, 3], [4, 5, 6]])\n",
    "print(np.mean(arr2))\n",
    "# Output: 3.5\n",
    "\n",
    "# 2D Array - Mean along axis 0 (columns)\n",
    "print(np.mean(arr2, axis=0))\n",
    "# Output: [2.5 3.5 4.5]\n",
    "\n",
    "# 2D Array - Mean along axis 1 (rows)\n",
    "print(np.mean(arr2, axis=1))\n",
    "# Output: [2. 5.]\n",
    "  </pre>\n",
    "</div>\n"
   ]
  },
  {
   "cell_type": "markdown",
   "id": "d94bbaee-bad4-472f-96a9-0368040395cf",
   "metadata": {},
   "source": [
    "<div style=\"font-family:'Segoe UI',sans-serif;background:#f9f9f9;border:2px solid #ddd;\n",
    "border-radius:10px;padding:12px;line-height:1.6;\">\n",
    "  <h2>📘 np.median()</h2>\n",
    "  \n",
    "  <p><b>Definition:</b> <code>np.median()</code> calculates the <b>median value</b> of elements \n",
    "  in an array along a specified axis. The median is the middle value when elements are sorted.</p>\n",
    "  \n",
    "  <p><b>Syntax:</b></p>\n",
    "  <pre style=\"background:#f4f4f4;padding:8px;border-radius:5px;\">\n",
    "  np.median(a, axis=None, out=None, overwrite_input=False, keepdims=False)\n",
    "  </pre>\n",
    "  \n",
    "  <h4>🔑 Explanation of Syntax</h4>\n",
    "  <ul>\n",
    "    <li><b>a</b> → Input array (1D, 2D, or higher-dimensional).</li>\n",
    "    <li><b>axis</b> → Axis along which to compute the median:\n",
    "      <ul>\n",
    "        <li>None → median of all elements (default)</li>\n",
    "        <li>0 → compute median column-wise</li>\n",
    "        <li>1 → compute median row-wise</li>\n",
    "      </ul>\n",
    "    </li>\n",
    "    <li><b>out</b> → Array to store the result (optional).</li>\n",
    "    <li><b>overwrite_input</b> → If True, allows the function to modify the input array for efficiency.</li>\n",
    "    <li><b>keepdims</b> → If True, keeps reduced dimensions for broadcasting.</li>\n",
    "  </ul>\n",
    "  \n",
    "  <h4>🔑 Important Points to Keep in Mind</h4>\n",
    "  <ul>\n",
    "    <li>Median is robust against outliers, unlike mean.</li>\n",
    "    <li>Returns a float even if input is integer.</li>\n",
    "    <li>Can compute median along any axis of a multidimensional array.</li>\n",
    "    <li>For ignoring NaN values, use <code>np.nanmedian()</code>.</li>\n",
    "    <li>Useful in data analysis for central tendency and skewed data.</li>\n",
    "  </ul>\n",
    "  \n",
    "  <h4>💻 Examples</h4>\n",
    "  \n",
    "  <pre style=\"background:#ecf0f1;padding:10px;border-radius:5px;margin-top:10px;\">\n",
    "import numpy as np\n",
    "\n",
    "# 1D Array\n",
    "arr = np.array([1, 3, 5, 2, 4])\n",
    "print(np.median(arr))\n",
    "# Output: 3.0\n",
    "\n",
    "# 2D Array - Overall median\n",
    "arr2 = np.array([[1, 2, 3], [4, 5, 6]])\n",
    "print(np.median(arr2))\n",
    "# Output: 3.5\n",
    "\n",
    "# 2D Array - Median along axis 0 (columns)\n",
    "print(np.median(arr2, axis=0))\n",
    "# Output: [2.5 3.5 4.5]\n",
    "\n",
    "# 2D Array - Median along axis 1 (rows)\n",
    "print(np.median(arr2, axis=1))\n",
    "# Output: [2. 5.]\n",
    "  </pre>\n",
    "</div>\n"
   ]
  },
  {
   "cell_type": "markdown",
   "id": "26a840bc-8d83-4b6d-8e95-e7ce72d20738",
   "metadata": {},
   "source": [
    "<div style=\"font-family:'Segoe UI',sans-serif;background:#f9f9f9;border:2px solid #ddd;\n",
    "border-radius:10px;padding:12px;line-height:1.6;\">\n",
    "  <h2>📘 np.floor()</h2>\n",
    "  \n",
    "  <p><b>Definition:</b> <code>np.floor()</code> returns the <b>largest integer less than or equal</b> \n",
    "  to each element of the input array. Essentially, it “rounds down” to the nearest integer.</p>\n",
    "  \n",
    "  <p><b>Syntax:</b></p>\n",
    "  <pre style=\"background:#f4f4f4;padding:8px;border-radius:5px;\">\n",
    "  np.floor(x)\n",
    "  </pre>\n",
    "  \n",
    "  <h4>🔑 Explanation of Syntax</h4>\n",
    "  <ul>\n",
    "    <li><b>x</b> → Input value. Can be:\n",
    "      <ul>\n",
    "        <li>a single number (scalar)</li>\n",
    "        <li>a Python list or tuple</li>\n",
    "        <li>a NumPy array (1D, 2D, or higher-dimensional)</li>\n",
    "      </ul>\n",
    "    </li>\n",
    "    <li>Returns an array of the same shape as <code>x</code> with each element rounded down to the nearest integer.</li>\n",
    "    <li>Works element-wise for arrays.</li>\n",
    "  </ul>\n",
    "  \n",
    "  <h4>🔑 Important Points to Keep in Mind</h4>\n",
    "  <ul>\n",
    "    <li>Always returns a floating-point array, even if input is integer.</li>\n",
    "    <li>Negative numbers are rounded “away” from zero (toward more negative).</li>\n",
    "    <li>Useful in data analysis for binning, floor division logic, or discretization.</li>\n",
    "    <li>Complementary functions: <code>np.ceil()</code> (round up), <code>np.rint()</code> (round to nearest integer).</li>\n",
    "  </ul>\n",
    "  \n",
    "  <h4>💻 Examples</h4>\n",
    "  \n",
    "  <pre style=\"background:#ecf0f1;padding:10px;border-radius:5px;margin-top:10px;\">\n",
    "import numpy as np\n",
    "\n",
    "# Single number\n",
    "print(np.floor(3.7))\n",
    "# Output: 3.0\n",
    "\n",
    "# Negative number\n",
    "print(np.floor(-3.7))\n",
    "# Output: -4.0\n",
    "\n",
    "# 1D array\n",
    "arr = np.array([1.2, 2.7, 3.5])\n",
    "print(np.floor(arr))\n",
    "# Output: [1. 2. 3.]\n",
    "\n",
    "# 2D array\n",
    "arr2 = np.array([[1.9, 2.1], [-3.7, -1.5]])\n",
    "print(np.floor(arr2))\n",
    "# Output:\n",
    "# [[ 1.  2.]\n",
    "#  [-4. -2.]]\n",
    "  </pre>\n",
    "</div>\n"
   ]
  },
  {
   "cell_type": "markdown",
   "id": "24fab4b1-a340-45f3-85cf-3127a1ec8d31",
   "metadata": {},
   "source": [
    "<div style=\"font-family:'Segoe UI',sans-serif;background:#f9f9f9;border:2px solid #ddd;\n",
    "border-radius:10px;padding:12px;line-height:1.6;\">\n",
    "  <h2>📘 np.ceil()</h2>\n",
    "  \n",
    "  <p><b>Definition:</b> <code>np.ceil()</code> returns the <b>smallest integer greater than or equal</b> \n",
    "  to each element of the input array. Essentially, it “rounds up” to the nearest integer.</p>\n",
    "  \n",
    "  <p><b>Syntax:</b></p>\n",
    "  <pre style=\"background:#f4f4f4;padding:8px;border-radius:5px;\">\n",
    "  np.ceil(x)\n",
    "  </pre>\n",
    "  \n",
    "  <h4>🔑 Explanation of Syntax</h4>\n",
    "  <ul>\n",
    "    <li><b>x</b> → Input value. Can be:\n",
    "      <ul>\n",
    "        <li>a single number (scalar)</li>\n",
    "        <li>a Python list or tuple</li>\n",
    "        <li>a NumPy array (1D, 2D, or higher-dimensional)</li>\n",
    "      </ul>\n",
    "    </li>\n",
    "    <li>Returns an array of the same shape as <code>x</code> with each element rounded up to the nearest integer.</li>\n",
    "    <li>Works element-wise for arrays.</li>\n",
    "  </ul>\n",
    "  \n",
    "  <h4>🔑 Important Points to Keep in Mind</h4>\n",
    "  <ul>\n",
    "    <li>Always returns a floating-point array, even if input is integer.</li>\n",
    "    <li>Negative numbers are rounded “toward zero” (less negative than the input).</li>\n",
    "    <li>Useful in data analysis for binning, ceilings in mathematical calculations, and discretization.</li>\n",
    "    <li>Complementary functions: <code>np.floor()</code> (round down), <code>np.rint()</code> (round to nearest integer).</li>\n",
    "  </ul>\n",
    "  \n",
    "  <h4>💻 Examples</h4>\n",
    "\n",
    "  <pre style=\"background:#ecf0f1;padding:10px;border-radius:5px;margin-top:10px;\">\n",
    "import numpy as np\n",
    "\n",
    "# Single number\n",
    "print(np.ceil(3.2))\n",
    "# Output: 4.0\n",
    "\n",
    "# Negative number\n",
    "print(np.ceil(-3.7))\n",
    "# Output: -3.0\n",
    "\n",
    "# 1D array\n",
    "arr = np.array([1.2, 2.7, 3.5])\n",
    "print(np.ceil(arr))\n",
    "# Output: [2. 3. 4.]\n",
    "\n",
    "# 2D array\n",
    "arr2 = np.array([[1.1, 2.9], [-3.7, -1.5]])\n",
    "print(np.ceil(arr2))\n",
    "# Output:\n",
    "# [[ 2.  3.]\n",
    "#  [-3. -1.]]\n",
    "  </pre>\n",
    "</div>\n"
   ]
  },
  {
   "cell_type": "markdown",
   "id": "d56f278f-f8fa-44fc-83fa-1c1ec39c35e6",
   "metadata": {},
   "source": [
    "<div style=\"font-family:'Segoe UI',sans-serif;background:#f9f9f9;border:2px solid #ddd;\n",
    "border-radius:10px;padding:12px;line-height:1.6;\">\n",
    "  <h2>📘 np.min() & np.max()</h2>\n",
    "  \n",
    "  <p><b>Definition:</b> \n",
    "    <ul>\n",
    "      <li><code>np.min()</code> returns the <b>smallest element</b> in an array along a specified axis.</li>\n",
    "      <li><code>np.max()</code> returns the <b>largest element</b> in an array along a specified axis.</li>\n",
    "    </ul>\n",
    "  </p>\n",
    "  \n",
    "  <p><b>Syntax:</b></p>\n",
    "  <pre style=\"background:#f4f4f4;padding:8px;border-radius:5px;\">\n",
    "  np.min(a, axis=None, out=None, keepdims=False)\n",
    "  np.max(a, axis=None, out=None, keepdims=False)\n",
    "  </pre>\n",
    "  \n",
    "  <h4>🔑 Explanation of Syntax</h4>\n",
    "  <ul>\n",
    "    <li><b>a</b> → Input array (1D, 2D, or higher-dimensional).</li>\n",
    "    <li><b>axis</b> → Axis along which to compute min/max:\n",
    "      <ul>\n",
    "        <li>None → min/max of all elements (default)</li>\n",
    "        <li>0 → column-wise</li>\n",
    "        <li>1 → row-wise</li>\n",
    "      </ul>\n",
    "    </li>\n",
    "    <li><b>out</b> → Optional array to store the result.</li>\n",
    "    <li><b>keepdims</b> → If True, keeps reduced dimensions for broadcasting.</li>\n",
    "  </ul>\n",
    "  \n",
    "  <h4>🔑 Important Points to Keep in Mind</h4>\n",
    "  <ul>\n",
    "    <li>Returns a scalar if axis=None, otherwise an array along the specified axis.</li>\n",
    "    <li>Works for multidimensional arrays and supports broadcasting.</li>\n",
    "    <li>NaN values are included; use <code>np.nanmin()</code> or <code>np.nanmax()</code> to ignore NaN.</li>\n",
    "    <li>Useful in data analysis for finding ranges, bounds, and aggregations.</li>\n",
    "  </ul>\n",
    "  \n",
    "  <h4>💻 Examples</h4>\n",
    "  \n",
    "  <pre style=\"background:#ecf0f1;padding:10px;border-radius:5px;margin-top:10px;\">\n",
    "import numpy as np\n",
    "\n",
    "arr = np.array([3, 1, 4, 1, 5, 9])\n",
    "\n",
    "# 1D array min and max\n",
    "print(np.min(arr))  # Output: 1\n",
    "print(np.max(arr))  # Output: 9\n",
    "\n",
    "# 2D array\n",
    "arr2 = np.array([[3, 2, 1], [6, 5, 4]])\n",
    "\n",
    "# Overall min and max\n",
    "print(np.min(arr2))  # Output: 1\n",
    "print(np.max(arr2))  # Output: 6\n",
    "\n",
    "# Min and max along axis 0 (columns)\n",
    "print(np.min(arr2, axis=0))  # Output: [3 2 1]\n",
    "print(np.max(arr2, axis=0))  # Output: [6 5 4]\n",
    "\n",
    "# Min and max along axis 1 (rows)\n",
    "print(np.min(arr2, axis=1))  # Output: [1 4]\n",
    "print(np.max(arr2, axis=1))  # Output: [3 6]\n",
    "  </pre>\n",
    "</div>\n"
   ]
  },
  {
   "cell_type": "code",
   "execution_count": null,
   "id": "eb038cf5-3bac-443b-b7d6-41cdf1b59f74",
   "metadata": {},
   "outputs": [],
   "source": []
  }
 ],
 "metadata": {
  "kernelspec": {
   "display_name": "Python 3 (ipykernel)",
   "language": "python",
   "name": "python3"
  },
  "language_info": {
   "codemirror_mode": {
    "name": "ipython",
    "version": 3
   },
   "file_extension": ".py",
   "mimetype": "text/x-python",
   "name": "python",
   "nbconvert_exporter": "python",
   "pygments_lexer": "ipython3",
   "version": "3.12.7"
  }
 },
 "nbformat": 4,
 "nbformat_minor": 5
}
