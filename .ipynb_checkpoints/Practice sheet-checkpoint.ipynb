{
 "cells": [
  {
   "cell_type": "code",
   "execution_count": 1,
   "id": "40f340aa-f914-48ce-abaf-bc4342ad345f",
   "metadata": {},
   "outputs": [],
   "source": [
    "import numpy as np"
   ]
  },
  {
   "cell_type": "code",
   "execution_count": 3,
   "id": "0d5bf1b6-ab7c-4bb9-bf04-68d1b3aa5829",
   "metadata": {},
   "outputs": [
    {
     "name": "stdout",
     "output_type": "stream",
     "text": [
      "[[ 12   1   4]\n",
      " [100   9   3]\n",
      " [  2  96  76]]\n"
     ]
    }
   ],
   "source": [
    "arr = np.array([[12,1,4],[100,9,3],[2,96,76]])\n",
    "print(arr)"
   ]
  },
  {
   "cell_type": "code",
   "execution_count": 6,
   "id": "ac5ff0dc-4b83-444d-9ef4-cb2ed650164b",
   "metadata": {},
   "outputs": [
    {
     "data": {
      "text/plain": [
       "array([[  2,   1,   3],\n",
       "       [ 12,   9,   4],\n",
       "       [100,  96,  76]])"
      ]
     },
     "execution_count": 6,
     "metadata": {},
     "output_type": "execute_result"
    }
   ],
   "source": [
    "np.sort(arr,axis=0) # this gives the output according to coloumn"
   ]
  },
  {
   "cell_type": "code",
   "execution_count": 8,
   "id": "c3e949f9-616a-421b-a9f9-5fb281363986",
   "metadata": {},
   "outputs": [
    {
     "data": {
      "text/plain": [
       "array([[  1,   4,  12],\n",
       "       [  3,   9, 100],\n",
       "       [  2,  76,  96]])"
      ]
     },
     "execution_count": 8,
     "metadata": {},
     "output_type": "execute_result"
    }
   ],
   "source": [
    "np.sort(arr,axis=1) # this gives the output according to row"
   ]
  },
  {
   "cell_type": "code",
   "execution_count": 11,
   "id": "045c2cf4-fff5-46a6-b066-09f9ccde7dab",
   "metadata": {},
   "outputs": [
    {
     "data": {
      "text/plain": [
       "array([['1', '', ''],\n",
       "       ['', '1', ''],\n",
       "       ['', '', '1']], dtype='<U1')"
      ]
     },
     "execution_count": 11,
     "metadata": {},
     "output_type": "execute_result"
    }
   ],
   "source": [
    "arr = np.eye(3,3,dtype=str)\n",
    "arr"
   ]
  }
 ],
 "metadata": {
  "kernelspec": {
   "display_name": "Python [conda env:base] *",
   "language": "python",
   "name": "conda-base-py"
  },
  "language_info": {
   "codemirror_mode": {
    "name": "ipython",
    "version": 3
   },
   "file_extension": ".py",
   "mimetype": "text/x-python",
   "name": "python",
   "nbconvert_exporter": "python",
   "pygments_lexer": "ipython3",
   "version": "3.12.7"
  }
 },
 "nbformat": 4,
 "nbformat_minor": 5
}
