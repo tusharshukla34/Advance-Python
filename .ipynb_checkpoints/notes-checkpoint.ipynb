{
 "cells": [
  {
   "cell_type": "code",
   "execution_count": null,
   "id": "b9941c00-f8f2-4f41-af7e-b3aecc9478c1",
   "metadata": {},
   "outputs": [],
   "source": [
    "#                                   day  16-09-2025 notes in my way"
   ]
  },
  {
   "cell_type": "code",
   "execution_count": 5,
   "id": "eaef198e-6783-4dbb-bad2-59b03b6e9664",
   "metadata": {},
   "outputs": [
    {
     "name": "stdout",
     "output_type": "stream",
     "text": [
      "[7, 3, 4, 2, 34, 3, 3]\n",
      "<class 'list'>\n"
     ]
    }
   ],
   "source": [
    "# this is list \n",
    "arr1 = ([7,3,4,2,34,3,3])\n",
    "print(arr1)\n",
    "print(type(arr1))"
   ]
  },
  {
   "cell_type": "code",
   "execution_count": 18,
   "id": "c371b557-e8be-44db-881b-a86899c9cee2",
   "metadata": {},
   "outputs": [
    {
     "ename": "NameError",
     "evalue": "name 'numpy' is not defined",
     "output_type": "error",
     "traceback": [
      "\u001b[1;31m---------------------------------------------------------------------------\u001b[0m",
      "\u001b[1;31mNameError\u001b[0m                                 Traceback (most recent call last)",
      "Cell \u001b[1;32mIn[18], line 2\u001b[0m\n\u001b[0;32m      1\u001b[0m \u001b[38;5;66;03m# to declare arrray we have to use numpy\u001b[39;00m\n\u001b[1;32m----> 2\u001b[0m arr1 \u001b[38;5;241m=\u001b[39m numpy\u001b[38;5;241m.\u001b[39marray([\u001b[38;5;241m1\u001b[39m,\u001b[38;5;241m2\u001b[39m,\u001b[38;5;241m3\u001b[39m,\u001b[38;5;241m4\u001b[39m,\u001b[38;5;241m5\u001b[39m,\u001b[38;5;241m6\u001b[39m,\u001b[38;5;241m7\u001b[39m,\u001b[38;5;241m83\u001b[39m])\n\u001b[0;32m      3\u001b[0m \u001b[38;5;28mprint\u001b[39m(arr1)\n\u001b[0;32m      4\u001b[0m arr1\n",
      "\u001b[1;31mNameError\u001b[0m: name 'numpy' is not defined"
     ]
    }
   ],
   "source": [
    "# to declare arrray we have to use numpy\n",
    "arr1 = numpy.array([1,2,3,4,5,6,7,83])\n",
    "print(arr1)"
   ]
  },
  {
   "cell_type": "code",
   "execution_count": 9,
   "id": "31236321-3bc6-4e2f-bf75-89c267ee0f98",
   "metadata": {},
   "outputs": [
    {
     "name": "stdout",
     "output_type": "stream",
     "text": [
      "[ 1  3  4  5  6  7 89]\n",
      "<class 'numpy.ndarray'>\n"
     ]
    }
   ],
   "source": [
    "# to declare arrray we have to use numpy\n",
    "\n",
    "import numpy as np\n",
    "arr1 = np.array([1,3,4,5,6,7,89])\n",
    "print(arr1)\n",
    "print(type(arr1))\n",
    "\n",
    "# ndarray\n",
    "# A multidimensional, homogeneous array object → meaning all elements must be of the same data type (int, float, etc.)."
   ]
  },
  {
   "cell_type": "code",
   "execution_count": 19,
   "id": "731727a1-739d-4df7-9273-1563b503a822",
   "metadata": {},
   "outputs": [
    {
     "name": "stdout",
     "output_type": "stream",
     "text": [
      "[ 1  3  4  5  6  7 89]\n",
      "<class 'numpy.ndarray'>\n",
      "1569232358448\n"
     ]
    },
    {
     "data": {
      "text/plain": [
       "array([ 1,  3,  4,  5,  6,  7, 89])"
      ]
     },
     "execution_count": 19,
     "metadata": {},
     "output_type": "execute_result"
    }
   ],
   "source": [
    "arr1 = np.array([1,3,4,5,6,7,89])\n",
    "print(arr1)\n",
    "print(type(arr1))\n",
    "print(id(arr1))\n",
    "arr1"
   ]
  },
  {
   "cell_type": "code",
   "execution_count": 23,
   "id": "f3a497fb-2ce6-45b4-b32c-ddbed45e5fdc",
   "metadata": {},
   "outputs": [
    {
     "name": "stdout",
     "output_type": "stream",
     "text": [
      "['1' '3' '4' '5' '6' '7' '89' 'tushar']\n",
      "<class 'numpy.ndarray'>\n"
     ]
    },
    {
     "data": {
      "text/plain": [
       "array(['1', '3', '4', '5', '6', '7', '89', 'tushar'], dtype='<U21')"
      ]
     },
     "execution_count": 23,
     "metadata": {},
     "output_type": "execute_result"
    }
   ],
   "source": [
    "arr1 = np.array([1,3,4,5,6,7,89,\"tushar\"])\n",
    "print(arr1)\n",
    "print(type(arr1))\n",
    "arr1\n",
    "\n",
    "# In a NumPy array, all elements must have the same data type.\n",
    "   # If you mix numbers (1, 3, 4...) and a string ('tushar'),\n",
    "   # NumPy finds a common data type that can hold everything safely.\n",
    "   # The \"most general type\" here is string → so all numbers are converted to strings."
   ]
  }
 ],
 "metadata": {
  "kernelspec": {
   "display_name": "Python [conda env:base] *",
   "language": "python",
   "name": "conda-base-py"
  },
  "language_info": {
   "codemirror_mode": {
    "name": "ipython",
    "version": 3
   },
   "file_extension": ".py",
   "mimetype": "text/x-python",
   "name": "python",
   "nbconvert_exporter": "python",
   "pygments_lexer": "ipython3",
   "version": "3.12.7"
  }
 },
 "nbformat": 4,
 "nbformat_minor": 5
}
