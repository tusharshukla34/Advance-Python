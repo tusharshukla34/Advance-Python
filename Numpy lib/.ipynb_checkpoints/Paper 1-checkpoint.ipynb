{
 "cells": [
  {
   "cell_type": "code",
   "execution_count": null,
   "id": "d65d4af9-0ee0-4040-a0a5-1d21eb530ebb",
   "metadata": {},
   "outputs": [],
   "source": [
    "1. Create a 1D NumPy array from a Python list and print its data type.\n"
   ]
  },
  {
   "cell_type": "code",
   "execution_count": null,
   "id": "72cae9a1-dc54-41ed-82af-005d48caaa6a",
   "metadata": {},
   "outputs": [],
   "source": [
    "2. Create a 2D NumPy array of shape (3,3) with values from 1 to 9.\n"
   ]
  },
  {
   "cell_type": "code",
   "execution_count": null,
   "id": "f21bccc1-6c2b-4272-a364-742eddcf0186",
   "metadata": {},
   "outputs": [],
   "source": [
    "3. Create an array of 10 zeros and an array of 10 ones.\n"
   ]
  },
  {
   "cell_type": "code",
   "execution_count": null,
   "id": "1fad4751-c117-44ce-b674-93f3c6e79209",
   "metadata": {},
   "outputs": [],
   "source": [
    "4. Create an array of 10 random integers between 1 and 100.\n"
   ]
  },
  {
   "cell_type": "code",
   "execution_count": null,
   "id": "ae543501-00c9-4e69-8f7c-a8da6b7e5294",
   "metadata": {},
   "outputs": [],
   "source": [
    "5. Create an array of 10 evenly spaced values between 0 and 1.\n"
   ]
  },
  {
   "cell_type": "code",
   "execution_count": null,
   "id": "9ddbe7ac-a2db-4313-b01e-d750e56e1aa1",
   "metadata": {},
   "outputs": [],
   "source": [
    "6. Find the shape, size, and dimensions (ndim) of a given NumPy array.\n"
   ]
  },
  {
   "cell_type": "code",
   "execution_count": null,
   "id": "a0f1ab17-d0d4-43a0-99ba-819a4879dd2f",
   "metadata": {},
   "outputs": [],
   "source": [
    "7. Reshape a 1D array of 12 elements into a 3x4 matrix.\n"
   ]
  },
  {
   "cell_type": "code",
   "execution_count": null,
   "id": "3e41ba66-3dc9-487a-aef2-fcc1ca7f098f",
   "metadata": {},
   "outputs": [],
   "source": [
    "8. Access the element at the 2nd row and 3rd column of a 2D array.\n"
   ]
  },
  {
   "cell_type": "code",
   "execution_count": null,
   "id": "b4a04b84-5cba-4639-96e9-8d87d746a054",
   "metadata": {},
   "outputs": [],
   "source": [
    "9. Slice a 1D array to extract every second element.\n"
   ]
  },
  {
   "cell_type": "code",
   "execution_count": null,
   "id": "b6b07a58-1905-4e04-88e1-259a6e76769d",
   "metadata": {},
   "outputs": [],
   "source": [
    "10. Reverse the elements of a 1D array without using loops\n"
   ]
  }
 ],
 "metadata": {
  "kernelspec": {
   "display_name": "Python 3 (ipykernel)",
   "language": "python",
   "name": "python3"
  },
  "language_info": {
   "codemirror_mode": {
    "name": "ipython",
    "version": 3
   },
   "file_extension": ".py",
   "mimetype": "text/x-python",
   "name": "python",
   "nbconvert_exporter": "python",
   "pygments_lexer": "ipython3",
   "version": "3.12.7"
  }
 },
 "nbformat": 4,
 "nbformat_minor": 5
}
