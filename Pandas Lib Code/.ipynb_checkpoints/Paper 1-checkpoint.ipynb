{
 "cells": [
  {
   "cell_type": "markdown",
   "id": "88bbdccf-3209-41f5-9acb-5fabba360c87",
   "metadata": {},
   "source": [
    "# BASIC LEVEL (15 Questions)"
   ]
  },
  {
   "cell_type": "raw",
   "id": "7349d997-a144-48f6-95bf-49d8750cb3b7",
   "metadata": {},
   "source": [
    "\n",
    "1. Create a Pandas Series from a Python list and print its data type.\n"
   ]
  },
  {
   "cell_type": "code",
   "execution_count": null,
   "id": "f3a818af-c7db-4aa1-a2b0-dbcfe6f8b13b",
   "metadata": {},
   "outputs": [],
   "source": []
  },
  {
   "cell_type": "raw",
   "id": "63afce11-f5de-45c2-8d14-9a5dda77866f",
   "metadata": {},
   "source": [
    "\n",
    "2. Create a DataFrame from a Python dictionary.\n"
   ]
  },
  {
   "cell_type": "code",
   "execution_count": null,
   "id": "091d1492-b244-414c-a895-20f64906db69",
   "metadata": {},
   "outputs": [],
   "source": []
  },
  {
   "cell_type": "raw",
   "id": "5ec76f67-a9b7-46de-8348-6a72a63a8978",
   "metadata": {},
   "source": [
    "\n",
    "3. Read a CSV file into a DataFrame and display its first 10 rows.\n"
   ]
  },
  {
   "cell_type": "code",
   "execution_count": null,
   "id": "55ca9da5-e223-47a2-b7e5-7c4343e73c56",
   "metadata": {},
   "outputs": [],
   "source": []
  },
  {
   "cell_type": "raw",
   "id": "07d43c91-d22c-43f5-b447-763b73154d32",
   "metadata": {},
   "source": [
    "\n",
    "4. Display the shape, size, and column names of a given DataFrame.\n"
   ]
  },
  {
   "cell_type": "raw",
   "id": "efe4fd79-46f5-4cca-9b20-ddd3585b6cc3",
   "metadata": {},
   "source": [
    "\n",
    "5. Select a single column and multiple columns from a DataFrame.\n"
   ]
  },
  {
   "cell_type": "raw",
   "id": "9f6027ab-ff1e-4710-bc7d-5b6d72dc5058",
   "metadata": {},
   "source": [
    "\n",
    "6. Access specific rows using iloc and loc.\n"
   ]
  },
  {
   "cell_type": "raw",
   "id": "9687af00-234a-4563-b0cd-689b6e5ff827",
   "metadata": {},
   "source": [
    "\n",
    "7. Add a new column to a DataFrame.\n"
   ]
  },
  {
   "cell_type": "raw",
   "id": "783b9d88-3fd6-42da-9da9-2f55dc130e3f",
   "metadata": {},
   "source": [
    "\n",
    "8. Delete a column or row from a DataFrame.\n"
   ]
  },
  {
   "cell_type": "raw",
   "id": "6b369521-e506-458c-b815-4c81ca9f6226",
   "metadata": {},
   "source": [
    "\n",
    "9. Check for null and non-null values in a DataFrame.\n"
   ]
  },
  {
   "cell_type": "raw",
   "id": "564960fd-f3b5-4986-bd0e-603a06fe580d",
   "metadata": {},
   "source": [
    "\n",
    "10. Fill missing values with mean or median using fillna().\n"
   ]
  },
  {
   "cell_type": "raw",
   "id": "ae0b28d2-6454-4468-9ac0-49c3016e8b9f",
   "metadata": {},
   "source": [
    "\n",
    "11. Drop all rows containing missing values using dropna().\n"
   ]
  },
  {
   "cell_type": "raw",
   "id": "c0ff4e1e-7322-4562-80e3-ff395d0c003b",
   "metadata": {},
   "source": [
    "\n",
    "12. Rename columns in a DataFrame.\n"
   ]
  },
  {
   "cell_type": "code",
   "execution_count": null,
   "id": "7145b77e-7941-40dc-bad4-aaf574ed516b",
   "metadata": {},
   "outputs": [],
   "source": [
    "13. Change the data type of a column using astype().\n"
   ]
  },
  {
   "cell_type": "code",
   "execution_count": null,
   "id": "77a5bfda-df39-4ede-a679-29eca54eddae",
   "metadata": {},
   "outputs": [],
   "source": [
    "14. Sort a DataFrame by one or more columns.\n"
   ]
  },
  {
   "cell_type": "code",
   "execution_count": null,
   "id": "ee82dbef-e7ba-4dfb-b51b-583a1693dc29",
   "metadata": {},
   "outputs": [],
   "source": [
    "15. Reset and set a new index in a DataFrame.\n"
   ]
  },
  {
   "cell_type": "code",
   "execution_count": null,
   "id": "178a5d55-493b-45dd-959a-56d622f6e871",
   "metadata": {},
   "outputs": [],
   "source": []
  },
  {
   "cell_type": "code",
   "execution_count": null,
   "id": "9d4f4f67-6ef7-4fee-a2f6-3fc46f1e508c",
   "metadata": {},
   "outputs": [],
   "source": []
  },
  {
   "cell_type": "code",
   "execution_count": null,
   "id": "a8c7272a-163b-41c7-a1fb-d67e40988cfd",
   "metadata": {},
   "outputs": [],
   "source": []
  },
  {
   "cell_type": "code",
   "execution_count": null,
   "id": "ce43142a-79ef-40c6-8739-d88baa0077e8",
   "metadata": {},
   "outputs": [],
   "source": []
  },
  {
   "cell_type": "markdown",
   "id": "21dfdcab-1aad-4a68-8e4c-be154b2f6248",
   "metadata": {},
   "source": [
    "# INTERMEDIATE LEVEL (20 Questions)"
   ]
  },
  {
   "cell_type": "code",
   "execution_count": null,
   "id": "1470a2b6-74e7-4a9c-be34-64f9666dcaa9",
   "metadata": {},
   "outputs": [],
   "source": [
    "1. Filter rows based on a single condition and multiple conditions.\n"
   ]
  },
  {
   "cell_type": "code",
   "execution_count": null,
   "id": "c596f151-a116-4002-8d06-a385d23e90d6",
   "metadata": {},
   "outputs": [],
   "source": [
    "2. Find unique values and their counts in a specific column.\n"
   ]
  },
  {
   "cell_type": "code",
   "execution_count": null,
   "id": "82cf47a9-f8ea-48be-80d4-dd1563562241",
   "metadata": {},
   "outputs": [],
   "source": [
    "3. Replace specific values in a DataFrame using replace().\n"
   ]
  },
  {
   "cell_type": "code",
   "execution_count": null,
   "id": "4eb51657-65e2-4a64-aa81-2dedf34669fc",
   "metadata": {},
   "outputs": [],
   "source": [
    "4. Apply a custom function to a column using apply().\n"
   ]
  },
  {
   "cell_type": "code",
   "execution_count": null,
   "id": "7c2630d6-ca1e-442a-ae13-3dfe6977844f",
   "metadata": {},
   "outputs": [],
   "source": [
    "5. Group the DataFrame by a column and calculate mean or sum.\n"
   ]
  },
  {
   "cell_type": "code",
   "execution_count": null,
   "id": "b21207f2-5c6d-4e9a-bbdb-67cae060037d",
   "metadata": {},
   "outputs": [],
   "source": [
    "6. Merge two DataFrames using a common column (inner join).\n"
   ]
  },
  {
   "cell_type": "code",
   "execution_count": null,
   "id": "5e854687-0262-4d8a-9e08-1b78693b551a",
   "metadata": {},
   "outputs": [],
   "source": [
    "7. Concatenate two DataFrames vertically and horizontally.\n"
   ]
  },
  {
   "cell_type": "code",
   "execution_count": null,
   "id": "302366c3-b1b6-48f0-8fbe-451df6934107",
   "metadata": {},
   "outputs": [],
   "source": [
    "8. Create a pivot table from a DataFrame.\n"
   ]
  },
  {
   "cell_type": "code",
   "execution_count": null,
   "id": "03fceeec-fff1-4789-9356-31f16fc69908",
   "metadata": {},
   "outputs": [],
   "source": [
    "9. Read only specific columns and rows from a CSV file.\n"
   ]
  },
  {
   "cell_type": "code",
   "execution_count": null,
   "id": "3b4ce69b-c046-45b8-9f0d-d4ef4fb70fab",
   "metadata": {},
   "outputs": [],
   "source": [
    "10. Export a DataFrame to a new CSV file.\n"
   ]
  },
  {
   "cell_type": "code",
   "execution_count": null,
   "id": "848da3e9-e9dd-4cab-9732-e849fe6eae97",
   "metadata": {},
   "outputs": [],
   "source": [
    "11. Count the number of missing values per column.\n"
   ]
  },
  {
   "cell_type": "code",
   "execution_count": null,
   "id": "f603eade-5eb8-43f9-a709-b9b685ba6874",
   "metadata": {},
   "outputs": [],
   "source": [
    "12. Find the maximum, minimum, and average of numeric columns.\n"
   ]
  },
  {
   "cell_type": "code",
   "execution_count": null,
   "id": "2a2d195f-6eb0-460d-adc0-330d93bd2d65",
   "metadata": {},
   "outputs": [],
   "source": [
    "13. Replace all NaN values with 0.\n"
   ]
  },
  {
   "cell_type": "code",
   "execution_count": null,
   "id": "b7d49899-c0df-4f01-ae06-b4479c28d993",
   "metadata": {},
   "outputs": [],
   "source": [
    "14. Get the top 5 and bottom 5 rows based on a numeric column.\n"
   ]
  },
  {
   "cell_type": "code",
   "execution_count": null,
   "id": "79c0fd28-89c8-4487-a0a4-0ef172743a0b",
   "metadata": {},
   "outputs": [],
   "source": [
    "15. Sort a DataFrame in ascending and descending order.\n"
   ]
  },
  {
   "cell_type": "code",
   "execution_count": null,
   "id": "4485c66d-60fb-4b9a-a3f6-778f4261f6c3",
   "metadata": {},
   "outputs": [],
   "source": [
    "16. Convert a DataFrame column into a Python list.\n"
   ]
  },
  {
   "cell_type": "code",
   "execution_count": null,
   "id": "dbf5adb6-89e8-4b59-aba7-23a1dde39d30",
   "metadata": {},
   "outputs": [],
   "source": [
    "17. Rename index labels in a DataFrame.\n"
   ]
  },
  {
   "cell_type": "code",
   "execution_count": null,
   "id": "89982f72-aa63-4e31-92c4-f3efe0c65280",
   "metadata": {},
   "outputs": [],
   "source": [
    "18. Drop duplicate rows based on all or selected columns.\n"
   ]
  },
  {
   "cell_type": "code",
   "execution_count": null,
   "id": "8f4be9ae-b88b-482c-834d-e61d56b01349",
   "metadata": {},
   "outputs": [],
   "source": [
    "19. Create a new column using values from other columns (column-wise operation).\n"
   ]
  },
  {
   "cell_type": "code",
   "execution_count": null,
   "id": "e39404f5-943b-4e23-b115-e9a8ba1add35",
   "metadata": {},
   "outputs": [],
   "source": [
    "20. Display only numeric or categorical columns using select_dtypes().\n"
   ]
  },
  {
   "cell_type": "code",
   "execution_count": null,
   "id": "255d2cc6-1902-4a25-8e99-6dcd7efd6c14",
   "metadata": {},
   "outputs": [],
   "source": []
  },
  {
   "cell_type": "code",
   "execution_count": null,
   "id": "b2efbf95-e93d-4385-8389-7d1dc91b9c7e",
   "metadata": {},
   "outputs": [],
   "source": []
  },
  {
   "cell_type": "code",
   "execution_count": null,
   "id": "dac65136-8591-460d-be24-8bec5d1aac9a",
   "metadata": {},
   "outputs": [],
   "source": []
  },
  {
   "cell_type": "code",
   "execution_count": null,
   "id": "6c6b645a-eb0c-4ca8-bcc7-d189d971067b",
   "metadata": {},
   "outputs": [],
   "source": []
  },
  {
   "cell_type": "code",
   "execution_count": null,
   "id": "363ad58a-02ac-43aa-9c6f-66a770763dab",
   "metadata": {},
   "outputs": [],
   "source": []
  },
  {
   "cell_type": "code",
   "execution_count": null,
   "id": "affd96d4-217f-4c93-85f6-2fe66d3afb41",
   "metadata": {},
   "outputs": [],
   "source": []
  },
  {
   "cell_type": "code",
   "execution_count": null,
   "id": "8ffe0250-19f7-4dc7-ab2b-abffe473997b",
   "metadata": {},
   "outputs": [],
   "source": []
  },
  {
   "cell_type": "code",
   "execution_count": null,
   "id": "b039050a-09b1-4fc1-aa98-d730c9f27c49",
   "metadata": {},
   "outputs": [],
   "source": []
  },
  {
   "cell_type": "code",
   "execution_count": null,
   "id": "2babaa28-b6bb-41d2-9f79-847246da23e1",
   "metadata": {},
   "outputs": [],
   "source": []
  },
  {
   "cell_type": "code",
   "execution_count": null,
   "id": "df361ff0-5d9f-4c01-a31d-2207a03af0d6",
   "metadata": {},
   "outputs": [],
   "source": []
  },
  {
   "cell_type": "code",
   "execution_count": null,
   "id": "eca27b69-b638-4b47-8752-d55f785108f9",
   "metadata": {},
   "outputs": [],
   "source": []
  },
  {
   "cell_type": "code",
   "execution_count": null,
   "id": "89ff33bc-53f8-40fe-bdb6-cd0b80cac55c",
   "metadata": {},
   "outputs": [],
   "source": []
  },
  {
   "cell_type": "code",
   "execution_count": null,
   "id": "6ac8d0d1-8eac-4a19-ad78-e736a47ab570",
   "metadata": {},
   "outputs": [],
   "source": []
  }
 ],
 "metadata": {
  "kernelspec": {
   "display_name": "Python 3 (ipykernel)",
   "language": "python",
   "name": "python3"
  },
  "language_info": {
   "codemirror_mode": {
    "name": "ipython",
    "version": 3
   },
   "file_extension": ".py",
   "mimetype": "text/x-python",
   "name": "python",
   "nbconvert_exporter": "python",
   "pygments_lexer": "ipython3",
   "version": "3.12.7"
  }
 },
 "nbformat": 4,
 "nbformat_minor": 5
}
