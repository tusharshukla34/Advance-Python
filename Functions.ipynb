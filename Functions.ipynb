{
 "cells": [
  {
   "cell_type": "markdown",
   "id": "8271ab02",
   "metadata": {},
   "source": [
    "------------------------         Numpy library functions                 ------------------"
   ]
  },
  {
   "cell_type": "markdown",
   "id": "946c1ce0",
   "metadata": {},
   "source": []
  },
  {
   "cell_type": "code",
   "execution_count": null,
   "id": "6eb38bb1",
   "metadata": {},
   "outputs": [],
   "source": [
    "import numpy as nu"
   ]
  }
 ],
 "metadata": {
  "kernelspec": {
   "display_name": "Python 3",
   "language": "python",
   "name": "python3"
  },
  "language_info": {
   "name": "python",
   "version": "3.13.7"
  }
 },
 "nbformat": 4,
 "nbformat_minor": 5
}
